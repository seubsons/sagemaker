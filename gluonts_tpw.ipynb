{
 "cells": [
  {
   "cell_type": "code",
   "execution_count": 1,
   "id": "b23fd42b-8ec9-4194-8193-2ed1932aa163",
   "metadata": {
    "tags": []
   },
   "outputs": [
    {
     "name": "stdout",
     "output_type": "stream",
     "text": [
      "Collecting xarray\n",
      "  Obtaining dependency information for xarray from https://files.pythonhosted.org/packages/c3/0a/56eadeb54f258e88f2f31e79fcb84079f8757298f4257d716cbbc674c460/xarray-2023.11.0-py3-none-any.whl.metadata\n",
      "  Using cached xarray-2023.11.0-py3-none-any.whl.metadata (11 kB)\n",
      "Collecting prophet\n",
      "  Obtaining dependency information for prophet from https://files.pythonhosted.org/packages/6b/3c/79d6da1af2a9bd6a534c5a283271eff1bdd673241cda795919a2b41578b3/prophet-1.1.5-py3-none-macosx_10_9_x86_64.whl.metadata\n",
      "  Using cached prophet-1.1.5-py3-none-macosx_10_9_x86_64.whl.metadata (3.5 kB)\n",
      "Collecting gluonts\n",
      "  Obtaining dependency information for gluonts from https://files.pythonhosted.org/packages/20/3d/30ff04c7640094b00c9a79cc4d4d62c40deb43fed49e1a5b162c39a3d229/gluonts-0.14.1-py3-none-any.whl.metadata\n",
      "  Using cached gluonts-0.14.1-py3-none-any.whl.metadata (9.5 kB)\n",
      "Collecting mxnet\n",
      "  Using cached mxnet-1.9.1-py3-none-macosx_10_13_x86_64.whl (39.5 MB)\n",
      "Collecting h5py\n",
      "  Obtaining dependency information for h5py from https://files.pythonhosted.org/packages/27/6b/c5ce9d753f0cb251e6b0b001804261eddc0ba96b0512db3fa89323ecf9a3/h5py-3.10.0-cp310-cp310-macosx_10_9_x86_64.whl.metadata\n",
      "  Using cached h5py-3.10.0-cp310-cp310-macosx_10_9_x86_64.whl.metadata (2.5 kB)\n",
      "\u001b[31mERROR: Could not find a version that satisfies the requirement mxnet-mkl==1.6.0 (from versions: none)\u001b[0m\u001b[31m\n",
      "\u001b[0m\u001b[31mERROR: No matching distribution found for mxnet-mkl==1.6.0\u001b[0m\u001b[31m\n",
      "\u001b[0m\n",
      "\u001b[1m[\u001b[0m\u001b[34;49mnotice\u001b[0m\u001b[1;39;49m]\u001b[0m\u001b[39;49m A new release of pip is available: \u001b[0m\u001b[31;49m23.2\u001b[0m\u001b[39;49m -> \u001b[0m\u001b[32;49m23.3.1\u001b[0m\n",
      "\u001b[1m[\u001b[0m\u001b[34;49mnotice\u001b[0m\u001b[1;39;49m]\u001b[0m\u001b[39;49m To update, run: \u001b[0m\u001b[32;49mpip install --upgrade pip\u001b[0m\n"
     ]
    }
   ],
   "source": [
    "!pip install xarray prophet gluonts mxnet h5py mxnet-mkl==1.6.0 numpy==1.23.1"
   ]
  },
  {
   "cell_type": "code",
   "execution_count": 5,
   "id": "patent-petite",
   "metadata": {},
   "outputs": [],
   "source": [
    "# !pip install plotly==5.9.0"
   ]
  },
  {
   "cell_type": "code",
   "execution_count": 1,
   "id": "97fadd16-6c49-43e8-81ec-05208a420d3d",
   "metadata": {
    "tags": []
   },
   "outputs": [],
   "source": [
    "import xarray as xr\n",
    "import pandas as pd\n",
    "import numpy as np\n",
    "import datetime\n",
    "import matplotlib.pyplot as plt\n",
    "from prophet import Prophet\n",
    "from matplotlib.dates import date2num\n",
    "\n",
    "from gluonts.mx.model.deepar import DeepAREstimator\n",
    "from gluonts.mx.distribution import ZeroInflatedNegativeBinomialOutput, StudentTOutput #likelihood\n",
    "from gluonts.mx.trainer.learning_rate_scheduler import LearningRateReduction\n",
    "from gluonts.mx.trainer import Trainer\n",
    "from gluonts.mx.trainer.model_averaging import ModelAveraging, SelectNBestSoftmax, SelectNBestMean\n",
    "\n",
    "from gluonts.evaluation import Evaluator\n",
    "from gluonts.evaluation.backtest import make_evaluation_predictions\n",
    "from gluonts.dataset.common import ListDataset\n",
    "from gluonts.dataset.util import to_pandas\n",
    "import random\n",
    "from gluonts.model.predictor import Predictor\n",
    "\n",
    "latitudes = np.flipud(np.arange(65) * 0.25 + 5)\n",
    "longitudes = np.arange(37) * 0.25 + 97"
   ]
  },
  {
   "cell_type": "code",
   "execution_count": 2,
   "id": "d03ccf78-1281-4832-83d0-62daef6fa93f",
   "metadata": {
    "tags": []
   },
   "outputs": [
    {
     "data": {
      "text/html": [
       "<div>\n",
       "<style scoped>\n",
       "    .dataframe tbody tr th:only-of-type {\n",
       "        vertical-align: middle;\n",
       "    }\n",
       "\n",
       "    .dataframe tbody tr th {\n",
       "        vertical-align: top;\n",
       "    }\n",
       "\n",
       "    .dataframe thead th {\n",
       "        text-align: right;\n",
       "    }\n",
       "</style>\n",
       "<table border=\"1\" class=\"dataframe\">\n",
       "  <thead>\n",
       "    <tr style=\"text-align: right;\">\n",
       "      <th>lat_lon</th>\n",
       "      <th>10.0, 100.0</th>\n",
       "      <th>10.0, 100.25</th>\n",
       "      <th>10.0, 100.5</th>\n",
       "      <th>10.0, 100.75</th>\n",
       "      <th>10.0, 101.0</th>\n",
       "      <th>10.0, 101.25</th>\n",
       "      <th>10.0, 101.5</th>\n",
       "      <th>10.0, 101.75</th>\n",
       "      <th>10.0, 102.0</th>\n",
       "      <th>10.0, 102.25</th>\n",
       "      <th>...</th>\n",
       "      <th>9.75, 97.5</th>\n",
       "      <th>9.75, 97.75</th>\n",
       "      <th>9.75, 98.0</th>\n",
       "      <th>9.75, 98.25</th>\n",
       "      <th>9.75, 98.5</th>\n",
       "      <th>9.75, 98.75</th>\n",
       "      <th>9.75, 99.0</th>\n",
       "      <th>9.75, 99.25</th>\n",
       "      <th>9.75, 99.5</th>\n",
       "      <th>9.75, 99.75</th>\n",
       "    </tr>\n",
       "    <tr>\n",
       "      <th>date</th>\n",
       "      <th></th>\n",
       "      <th></th>\n",
       "      <th></th>\n",
       "      <th></th>\n",
       "      <th></th>\n",
       "      <th></th>\n",
       "      <th></th>\n",
       "      <th></th>\n",
       "      <th></th>\n",
       "      <th></th>\n",
       "      <th></th>\n",
       "      <th></th>\n",
       "      <th></th>\n",
       "      <th></th>\n",
       "      <th></th>\n",
       "      <th></th>\n",
       "      <th></th>\n",
       "      <th></th>\n",
       "      <th></th>\n",
       "      <th></th>\n",
       "      <th></th>\n",
       "    </tr>\n",
       "  </thead>\n",
       "  <tbody>\n",
       "    <tr>\n",
       "      <th>2020-01-01</th>\n",
       "      <td>76.800000</td>\n",
       "      <td>78.500000</td>\n",
       "      <td>78.400000</td>\n",
       "      <td>76.800000</td>\n",
       "      <td>76.200000</td>\n",
       "      <td>76.100000</td>\n",
       "      <td>75.900000</td>\n",
       "      <td>75.700000</td>\n",
       "      <td>75.400000</td>\n",
       "      <td>76.400000</td>\n",
       "      <td>...</td>\n",
       "      <td>77.800000</td>\n",
       "      <td>78.300000</td>\n",
       "      <td>78.600000</td>\n",
       "      <td>78.400000</td>\n",
       "      <td>86.100000</td>\n",
       "      <td>98.300000</td>\n",
       "      <td>92.700000</td>\n",
       "      <td>77.500000</td>\n",
       "      <td>77.900000</td>\n",
       "      <td>77.200000</td>\n",
       "    </tr>\n",
       "    <tr>\n",
       "      <th>2020-01-02</th>\n",
       "      <td>76.400000</td>\n",
       "      <td>75.600000</td>\n",
       "      <td>76.700000</td>\n",
       "      <td>75.900000</td>\n",
       "      <td>73.800000</td>\n",
       "      <td>74.500000</td>\n",
       "      <td>71.300000</td>\n",
       "      <td>69.400000</td>\n",
       "      <td>69.200000</td>\n",
       "      <td>69.900000</td>\n",
       "      <td>...</td>\n",
       "      <td>76.800000</td>\n",
       "      <td>78.200000</td>\n",
       "      <td>77.600000</td>\n",
       "      <td>81.100000</td>\n",
       "      <td>88.500000</td>\n",
       "      <td>98.500000</td>\n",
       "      <td>95.000000</td>\n",
       "      <td>79.300000</td>\n",
       "      <td>77.200000</td>\n",
       "      <td>75.800000</td>\n",
       "    </tr>\n",
       "    <tr>\n",
       "      <th>2020-01-03</th>\n",
       "      <td>74.600000</td>\n",
       "      <td>72.400000</td>\n",
       "      <td>71.800000</td>\n",
       "      <td>72.000000</td>\n",
       "      <td>72.200000</td>\n",
       "      <td>71.600000</td>\n",
       "      <td>71.400000</td>\n",
       "      <td>70.400000</td>\n",
       "      <td>72.100000</td>\n",
       "      <td>74.400000</td>\n",
       "      <td>...</td>\n",
       "      <td>74.200000</td>\n",
       "      <td>74.500000</td>\n",
       "      <td>75.700000</td>\n",
       "      <td>77.000000</td>\n",
       "      <td>87.400000</td>\n",
       "      <td>96.400000</td>\n",
       "      <td>93.700000</td>\n",
       "      <td>77.500000</td>\n",
       "      <td>75.400000</td>\n",
       "      <td>74.600000</td>\n",
       "    </tr>\n",
       "    <tr>\n",
       "      <th>2020-01-04</th>\n",
       "      <td>76.400000</td>\n",
       "      <td>76.500000</td>\n",
       "      <td>76.500000</td>\n",
       "      <td>77.600000</td>\n",
       "      <td>77.800000</td>\n",
       "      <td>77.400000</td>\n",
       "      <td>77.400000</td>\n",
       "      <td>78.200000</td>\n",
       "      <td>78.200000</td>\n",
       "      <td>80.900000</td>\n",
       "      <td>...</td>\n",
       "      <td>79.800000</td>\n",
       "      <td>78.300000</td>\n",
       "      <td>76.500000</td>\n",
       "      <td>77.100000</td>\n",
       "      <td>89.900000</td>\n",
       "      <td>98.200000</td>\n",
       "      <td>93.900000</td>\n",
       "      <td>80.100000</td>\n",
       "      <td>80.100000</td>\n",
       "      <td>80.200000</td>\n",
       "    </tr>\n",
       "    <tr>\n",
       "      <th>2020-01-05</th>\n",
       "      <td>73.800000</td>\n",
       "      <td>74.700000</td>\n",
       "      <td>76.100000</td>\n",
       "      <td>76.900000</td>\n",
       "      <td>74.900000</td>\n",
       "      <td>72.100000</td>\n",
       "      <td>72.200000</td>\n",
       "      <td>73.700000</td>\n",
       "      <td>78.000000</td>\n",
       "      <td>76.300000</td>\n",
       "      <td>...</td>\n",
       "      <td>78.800000</td>\n",
       "      <td>78.700000</td>\n",
       "      <td>78.700000</td>\n",
       "      <td>79.000000</td>\n",
       "      <td>86.300000</td>\n",
       "      <td>98.400000</td>\n",
       "      <td>93.300000</td>\n",
       "      <td>77.000000</td>\n",
       "      <td>77.200000</td>\n",
       "      <td>75.800000</td>\n",
       "    </tr>\n",
       "    <tr>\n",
       "      <th>...</th>\n",
       "      <td>...</td>\n",
       "      <td>...</td>\n",
       "      <td>...</td>\n",
       "      <td>...</td>\n",
       "      <td>...</td>\n",
       "      <td>...</td>\n",
       "      <td>...</td>\n",
       "      <td>...</td>\n",
       "      <td>...</td>\n",
       "      <td>...</td>\n",
       "      <td>...</td>\n",
       "      <td>...</td>\n",
       "      <td>...</td>\n",
       "      <td>...</td>\n",
       "      <td>...</td>\n",
       "      <td>...</td>\n",
       "      <td>...</td>\n",
       "      <td>...</td>\n",
       "      <td>...</td>\n",
       "      <td>...</td>\n",
       "      <td>...</td>\n",
       "    </tr>\n",
       "    <tr>\n",
       "      <th>2023-11-17</th>\n",
       "      <td>64.780954</td>\n",
       "      <td>64.739354</td>\n",
       "      <td>64.843354</td>\n",
       "      <td>64.990554</td>\n",
       "      <td>65.092954</td>\n",
       "      <td>64.870554</td>\n",
       "      <td>64.385754</td>\n",
       "      <td>63.771354</td>\n",
       "      <td>62.880154</td>\n",
       "      <td>61.750554</td>\n",
       "      <td>...</td>\n",
       "      <td>64.843354</td>\n",
       "      <td>64.444954</td>\n",
       "      <td>64.985754</td>\n",
       "      <td>65.366554</td>\n",
       "      <td>64.336093</td>\n",
       "      <td>61.723354</td>\n",
       "      <td>65.224154</td>\n",
       "      <td>67.006554</td>\n",
       "      <td>66.204893</td>\n",
       "      <td>65.793693</td>\n",
       "    </tr>\n",
       "    <tr>\n",
       "      <th>2023-11-18</th>\n",
       "      <td>64.415309</td>\n",
       "      <td>63.860109</td>\n",
       "      <td>62.964109</td>\n",
       "      <td>61.396109</td>\n",
       "      <td>59.404109</td>\n",
       "      <td>58.039309</td>\n",
       "      <td>57.053709</td>\n",
       "      <td>55.949709</td>\n",
       "      <td>54.853709</td>\n",
       "      <td>53.797709</td>\n",
       "      <td>...</td>\n",
       "      <td>61.972449</td>\n",
       "      <td>61.969249</td>\n",
       "      <td>62.929249</td>\n",
       "      <td>63.665249</td>\n",
       "      <td>63.367309</td>\n",
       "      <td>59.792909</td>\n",
       "      <td>63.076109</td>\n",
       "      <td>65.477709</td>\n",
       "      <td>64.840909</td>\n",
       "      <td>63.984909</td>\n",
       "    </tr>\n",
       "    <tr>\n",
       "      <th>2023-11-19</th>\n",
       "      <td>46.057265</td>\n",
       "      <td>45.761265</td>\n",
       "      <td>45.127665</td>\n",
       "      <td>44.529265</td>\n",
       "      <td>44.903665</td>\n",
       "      <td>45.601265</td>\n",
       "      <td>45.377265</td>\n",
       "      <td>45.762524</td>\n",
       "      <td>46.458524</td>\n",
       "      <td>46.890524</td>\n",
       "      <td>...</td>\n",
       "      <td>46.158943</td>\n",
       "      <td>46.298143</td>\n",
       "      <td>46.277343</td>\n",
       "      <td>45.598943</td>\n",
       "      <td>44.627743</td>\n",
       "      <td>41.236465</td>\n",
       "      <td>44.113265</td>\n",
       "      <td>46.614065</td>\n",
       "      <td>46.820465</td>\n",
       "      <td>47.146865</td>\n",
       "    </tr>\n",
       "    <tr>\n",
       "      <th>2023-11-20</th>\n",
       "      <td>43.519793</td>\n",
       "      <td>43.754132</td>\n",
       "      <td>44.419732</td>\n",
       "      <td>45.191793</td>\n",
       "      <td>45.794993</td>\n",
       "      <td>45.340593</td>\n",
       "      <td>45.642993</td>\n",
       "      <td>47.415793</td>\n",
       "      <td>48.895793</td>\n",
       "      <td>48.870193</td>\n",
       "      <td>...</td>\n",
       "      <td>40.998341</td>\n",
       "      <td>41.447941</td>\n",
       "      <td>41.758341</td>\n",
       "      <td>41.532741</td>\n",
       "      <td>41.478193</td>\n",
       "      <td>38.636593</td>\n",
       "      <td>41.639793</td>\n",
       "      <td>44.193393</td>\n",
       "      <td>45.169541</td>\n",
       "      <td>44.839941</td>\n",
       "    </tr>\n",
       "    <tr>\n",
       "      <th>2023-11-21</th>\n",
       "      <td>45.219898</td>\n",
       "      <td>44.952698</td>\n",
       "      <td>44.642298</td>\n",
       "      <td>45.938298</td>\n",
       "      <td>47.040698</td>\n",
       "      <td>47.536698</td>\n",
       "      <td>48.416698</td>\n",
       "      <td>49.122298</td>\n",
       "      <td>48.887098</td>\n",
       "      <td>48.459898</td>\n",
       "      <td>...</td>\n",
       "      <td>40.520698</td>\n",
       "      <td>38.272698</td>\n",
       "      <td>39.170298</td>\n",
       "      <td>40.629498</td>\n",
       "      <td>40.191098</td>\n",
       "      <td>37.639098</td>\n",
       "      <td>40.943098</td>\n",
       "      <td>44.679098</td>\n",
       "      <td>45.539898</td>\n",
       "      <td>45.453498</td>\n",
       "    </tr>\n",
       "  </tbody>\n",
       "</table>\n",
       "<p>1421 rows × 2405 columns</p>\n",
       "</div>"
      ],
      "text/plain": [
       "lat_lon     10.0, 100.0  10.0, 100.25  10.0, 100.5  10.0, 100.75  10.0, 101.0  \\\n",
       "date                                                                            \n",
       "2020-01-01    76.800000     78.500000    78.400000     76.800000    76.200000   \n",
       "2020-01-02    76.400000     75.600000    76.700000     75.900000    73.800000   \n",
       "2020-01-03    74.600000     72.400000    71.800000     72.000000    72.200000   \n",
       "2020-01-04    76.400000     76.500000    76.500000     77.600000    77.800000   \n",
       "2020-01-05    73.800000     74.700000    76.100000     76.900000    74.900000   \n",
       "...                 ...           ...          ...           ...          ...   \n",
       "2023-11-17    64.780954     64.739354    64.843354     64.990554    65.092954   \n",
       "2023-11-18    64.415309     63.860109    62.964109     61.396109    59.404109   \n",
       "2023-11-19    46.057265     45.761265    45.127665     44.529265    44.903665   \n",
       "2023-11-20    43.519793     43.754132    44.419732     45.191793    45.794993   \n",
       "2023-11-21    45.219898     44.952698    44.642298     45.938298    47.040698   \n",
       "\n",
       "lat_lon     10.0, 101.25  10.0, 101.5  10.0, 101.75  10.0, 102.0  \\\n",
       "date                                                               \n",
       "2020-01-01     76.100000    75.900000     75.700000    75.400000   \n",
       "2020-01-02     74.500000    71.300000     69.400000    69.200000   \n",
       "2020-01-03     71.600000    71.400000     70.400000    72.100000   \n",
       "2020-01-04     77.400000    77.400000     78.200000    78.200000   \n",
       "2020-01-05     72.100000    72.200000     73.700000    78.000000   \n",
       "...                  ...          ...           ...          ...   \n",
       "2023-11-17     64.870554    64.385754     63.771354    62.880154   \n",
       "2023-11-18     58.039309    57.053709     55.949709    54.853709   \n",
       "2023-11-19     45.601265    45.377265     45.762524    46.458524   \n",
       "2023-11-20     45.340593    45.642993     47.415793    48.895793   \n",
       "2023-11-21     47.536698    48.416698     49.122298    48.887098   \n",
       "\n",
       "lat_lon     10.0, 102.25  ...  9.75, 97.5  9.75, 97.75  9.75, 98.0  \\\n",
       "date                      ...                                        \n",
       "2020-01-01     76.400000  ...   77.800000    78.300000   78.600000   \n",
       "2020-01-02     69.900000  ...   76.800000    78.200000   77.600000   \n",
       "2020-01-03     74.400000  ...   74.200000    74.500000   75.700000   \n",
       "2020-01-04     80.900000  ...   79.800000    78.300000   76.500000   \n",
       "2020-01-05     76.300000  ...   78.800000    78.700000   78.700000   \n",
       "...                  ...  ...         ...          ...         ...   \n",
       "2023-11-17     61.750554  ...   64.843354    64.444954   64.985754   \n",
       "2023-11-18     53.797709  ...   61.972449    61.969249   62.929249   \n",
       "2023-11-19     46.890524  ...   46.158943    46.298143   46.277343   \n",
       "2023-11-20     48.870193  ...   40.998341    41.447941   41.758341   \n",
       "2023-11-21     48.459898  ...   40.520698    38.272698   39.170298   \n",
       "\n",
       "lat_lon     9.75, 98.25  9.75, 98.5  9.75, 98.75  9.75, 99.0  9.75, 99.25  \\\n",
       "date                                                                        \n",
       "2020-01-01    78.400000   86.100000    98.300000   92.700000    77.500000   \n",
       "2020-01-02    81.100000   88.500000    98.500000   95.000000    79.300000   \n",
       "2020-01-03    77.000000   87.400000    96.400000   93.700000    77.500000   \n",
       "2020-01-04    77.100000   89.900000    98.200000   93.900000    80.100000   \n",
       "2020-01-05    79.000000   86.300000    98.400000   93.300000    77.000000   \n",
       "...                 ...         ...          ...         ...          ...   \n",
       "2023-11-17    65.366554   64.336093    61.723354   65.224154    67.006554   \n",
       "2023-11-18    63.665249   63.367309    59.792909   63.076109    65.477709   \n",
       "2023-11-19    45.598943   44.627743    41.236465   44.113265    46.614065   \n",
       "2023-11-20    41.532741   41.478193    38.636593   41.639793    44.193393   \n",
       "2023-11-21    40.629498   40.191098    37.639098   40.943098    44.679098   \n",
       "\n",
       "lat_lon     9.75, 99.5  9.75, 99.75  \n",
       "date                                 \n",
       "2020-01-01   77.900000    77.200000  \n",
       "2020-01-02   77.200000    75.800000  \n",
       "2020-01-03   75.400000    74.600000  \n",
       "2020-01-04   80.100000    80.200000  \n",
       "2020-01-05   77.200000    75.800000  \n",
       "...                ...          ...  \n",
       "2023-11-17   66.204893    65.793693  \n",
       "2023-11-18   64.840909    63.984909  \n",
       "2023-11-19   46.820465    47.146865  \n",
       "2023-11-20   45.169541    44.839941  \n",
       "2023-11-21   45.539898    45.453498  \n",
       "\n",
       "[1421 rows x 2405 columns]"
      ]
     },
     "execution_count": 2,
     "metadata": {},
     "output_type": "execute_result"
    }
   ],
   "source": [
    "ds = xr.open_dataset(\"data/tpw.nc\")\n",
    "df = ds.to_dataframe()\n",
    "df.reset_index(inplace=True)\n",
    "df['date'] = df['date'].dt.date\n",
    "df['lat'] = [latitudes[i] for i in df['lat']]\n",
    "df['lon'] = [longitudes[i] for i in df['lon']]\n",
    "df['lat_lon'] = df['lat'].astype(str) + ', ' + df['lon'].astype(str)\n",
    "df = df.groupby(['date', 'lat_lon'])['tpw'].max().reset_index()\n",
    "pivoted_df = df.pivot(index=['date'], columns='lat_lon', values='tpw').reset_index()\n",
    "pivoted_df = pivoted_df.set_index('date')\n",
    "pivoted_df"
   ]
  },
  {
   "cell_type": "code",
   "execution_count": 3,
   "id": "3228cba5-029d-4df0-b262-ab74194bca07",
   "metadata": {
    "tags": []
   },
   "outputs": [],
   "source": [
    "training_list = []\n",
    "for data in pivoted_df:\n",
    "    training_list.append({\"start\": pivoted_df.index[0], \"target\": pivoted_df[data][:datetime.date(2023, 1, 1)].tolist()})"
   ]
  },
  {
   "cell_type": "code",
   "execution_count": 4,
   "id": "5dc0146a-7a00-45ba-a66e-18cfd1346803",
   "metadata": {
    "tags": []
   },
   "outputs": [],
   "source": [
    "training_data = ListDataset(\n",
    "    training_list,\n",
    "    freq=\"D\"\n",
    ")"
   ]
  },
  {
   "cell_type": "code",
   "execution_count": 5,
   "id": "0d02a515-b400-401f-94f8-f2e41cb44d50",
   "metadata": {
    "tags": []
   },
   "outputs": [],
   "source": [
    "entry = next(iter(training_data))\n",
    "train_series = to_pandas(entry)"
   ]
  },
  {
   "cell_type": "code",
   "execution_count": 6,
   "id": "ae568f59-a4e7-4906-8c89-28f32ffb0084",
   "metadata": {
    "tags": []
   },
   "outputs": [],
   "source": [
    "test_list = []\n",
    "for data in pivoted_df:\n",
    "    test_list.append({\"start\": pivoted_df.index[0], \"target\": pivoted_df[data][:datetime.date(2023, 11, 19)].tolist()})"
   ]
  },
  {
   "cell_type": "code",
   "execution_count": 7,
   "id": "7472502d-20cb-4446-a5e0-be43e147aae8",
   "metadata": {
    "tags": []
   },
   "outputs": [],
   "source": [
    "test_data = ListDataset(\n",
    "    test_list,\n",
    "    freq=\"D\"\n",
    ")"
   ]
  },
  {
   "cell_type": "code",
   "execution_count": 8,
   "id": "ef428520-4b37-4dc3-a706-b2d5359563af",
   "metadata": {
    "tags": []
   },
   "outputs": [],
   "source": [
    "entry = next(iter(test_data))\n",
    "test_series = to_pandas(entry)"
   ]
  },
  {
   "cell_type": "code",
   "execution_count": 9,
   "id": "7d7d86fd-54a0-4a27-93ab-0ea56a4de455",
   "metadata": {
    "tags": []
   },
   "outputs": [],
   "source": [
    "index_train_end = pivoted_df.index.get_loc(datetime.date(2023, 1, 1))"
   ]
  },
  {
   "cell_type": "code",
   "execution_count": 10,
   "id": "913c0950-3f51-4a56-8cd9-1a58a2b03a12",
   "metadata": {
    "tags": []
   },
   "outputs": [
    {
     "data": {
      "text/plain": [
       "1096"
      ]
     },
     "execution_count": 10,
     "metadata": {},
     "output_type": "execute_result"
    }
   ],
   "source": [
    "index_train_end"
   ]
  },
  {
   "cell_type": "code",
   "execution_count": 11,
   "id": "144abba5-03fc-4a4f-bb4e-8d072b3d3392",
   "metadata": {
    "tags": []
   },
   "outputs": [
    {
     "data": {
      "image/png": "[encoded data removed]",
      "text/plain": [
       "<Figure size 720x432 with 1 Axes>"
      ]
     },
     "metadata": {
      "needs_background": "light"
     },
     "output_type": "display_data"
    }
   ],
   "source": [
    "plt.figure(figsize=(10, 6))\n",
    "test_series.plot(title='Heat Index @ Bangkok')\n",
    "\n",
    "plt.axvline(pivoted_df.index[index_train_end], color='r') # end of train dataset\n",
    "plt.grid(which=\"both\")\n",
    "plt.legend([\"test series\", \"end of train series\"], loc=\"lower left\")\n",
    "plt.show()"
   ]
  },
  {
   "cell_type": "markdown",
   "id": "a04777b6-1b47-431c-a588-811438d86b6f",
   "metadata": {},
   "source": [
    "## Select the Model"
   ]
  },
  {
   "cell_type": "code",
   "execution_count": 12,
   "id": "4c0c7b7e-c997-4078-bab0-a7ee593c1e92",
   "metadata": {
    "tags": []
   },
   "outputs": [],
   "source": [
    "callbacks = [\n",
    "    LearningRateReduction(objective=\"min\",\n",
    "                          patience=10,\n",
    "                          base_lr=1e-3,\n",
    "                          decay_factor=0.5,\n",
    "                          ),\n",
    "    ModelAveraging(avg_strategy=SelectNBestMean(num_models=2))\n",
    "]\n",
    "\n",
    "\n",
    "estimator = DeepAREstimator(\n",
    "    freq=\"1D\",\n",
    "    prediction_length=306,\n",
    "    context_length=306,\n",
    "    num_layers = 5,\n",
    "    num_cells = 500,\n",
    "    distr_output=StudentTOutput(),\n",
    "    dropout_rate=0.01,\n",
    "    trainer=Trainer(#ctx = mx.context.gpu(),\n",
    "                    epochs=10,\n",
    "                    callbacks=callbacks))\n",
    "\n",
    "\n",
    "# estimator = DeepAREstimator(\n",
    "#     freq=\"M\",\n",
    "#     prediction_length=306,\n",
    "#     context_length=306,\n",
    "#     num_layers = 2,\n",
    "#     num_cells = 50,\n",
    "#     distr_output=StudentTOutput(),\n",
    "#     dropout_rate=0.01,\n",
    "#     trainer=Trainer(#ctx = mx.context.gpu(),\n",
    "#                     epochs=1,\n",
    "#                     callbacks=callbacks))\n"
   ]
  },
  {
   "cell_type": "code",
   "execution_count": 13,
   "id": "1167c7a4-aede-4c46-8fdd-77bbe5cb328c",
   "metadata": {
    "scrolled": false,
    "tags": []
   },
   "outputs": [
    {
     "name": "stderr",
     "output_type": "stream",
     "text": [
      "100%|██████████| 50/50 [1:04:22<00:00, 77.25s/it, epoch=1/10, avg_epoch_loss=4.53]\n",
      "100%|██████████| 50/50 [1:03:23<00:00, 76.06s/it, epoch=2/10, avg_epoch_loss=3.7] \n",
      "100%|██████████| 50/50 [55:51<00:00, 67.02s/it, epoch=3/10, avg_epoch_loss=3.54]\n",
      "100%|██████████| 50/50 [52:56<00:00, 63.53s/it, epoch=4/10, avg_epoch_loss=3.3] \n",
      "100%|██████████| 50/50 [56:52<00:00, 68.26s/it, epoch=5/10, avg_epoch_loss=3.57]\n",
      "100%|██████████| 50/50 [51:50<00:00, 62.22s/it, epoch=6/10, avg_epoch_loss=3.43]\n",
      "100%|██████████| 50/50 [53:31<00:00, 64.24s/it, epoch=7/10, avg_epoch_loss=3.34] \n",
      "100%|██████████| 50/50 [1:04:59<00:00, 77.99s/it, epoch=8/10, avg_epoch_loss=3.02]\n",
      "100%|██████████| 50/50 [53:03<00:00, 63.67s/it, epoch=9/10, avg_epoch_loss=3.17] \n",
      "100%|██████████| 50/50 [49:30<00:00, 59.42s/it, epoch=10/10, avg_epoch_loss=3.21]\n"
     ]
    }
   ],
   "source": [
    "predictor = estimator.train(training_data)"
   ]
  },
  {
   "cell_type": "code",
   "execution_count": 15,
   "id": "eadf95b5-9ed6-47ef-85ba-8e2e83d55bf1",
   "metadata": {
    "tags": []
   },
   "outputs": [
    {
     "name": "stderr",
     "output_type": "stream",
     "text": [
      "WARNING:root:Serializing RepresentableBlockPredictor instances does not save the prediction network structure in a backwards-compatible manner. Be careful not to use this method in production.\n"
     ]
    }
   ],
   "source": [
    "\n",
    "\n",
    "# save the trained model in tmp/\n",
    "from pathlib import Path\n",
    "predictor.serialize(Path(\"model/gluonts_deepar_tpw/\"))\n"
   ]
  },
  {
   "cell_type": "code",
   "execution_count": 14,
   "id": "affecting-payday",
   "metadata": {},
   "outputs": [
    {
     "ename": "NameError",
     "evalue": "name 'Path' is not defined",
     "output_type": "error",
     "traceback": [
      "\u001b[0;31m---------------------------------------------------------------------------\u001b[0m",
      "\u001b[0;31mNameError\u001b[0m                                 Traceback (most recent call last)",
      "\u001b[0;32m<ipython-input-14-c2e2a2d21579>\u001b[0m in \u001b[0;36m<module>\u001b[0;34m\u001b[0m\n\u001b[1;32m      1\u001b[0m \u001b[0;31m# loads it back\u001b[0m\u001b[0;34m\u001b[0m\u001b[0;34m\u001b[0m\u001b[0m\n\u001b[1;32m      2\u001b[0m \u001b[0;32mfrom\u001b[0m \u001b[0mgluonts\u001b[0m\u001b[0;34m.\u001b[0m\u001b[0mmodel\u001b[0m\u001b[0;34m.\u001b[0m\u001b[0mpredictor\u001b[0m \u001b[0;32mimport\u001b[0m \u001b[0mPredictor\u001b[0m\u001b[0;34m\u001b[0m\u001b[0;34m\u001b[0m\u001b[0m\n\u001b[0;32m----> 3\u001b[0;31m \u001b[0mpredictor_deserialized\u001b[0m \u001b[0;34m=\u001b[0m \u001b[0mPredictor\u001b[0m\u001b[0;34m.\u001b[0m\u001b[0mdeserialize\u001b[0m\u001b[0;34m(\u001b[0m\u001b[0mPath\u001b[0m\u001b[0;34m(\u001b[0m\u001b[0;34m\"model/gluonts_deepar_tpw/\"\u001b[0m\u001b[0;34m)\u001b[0m\u001b[0;34m)\u001b[0m\u001b[0;34m\u001b[0m\u001b[0;34m\u001b[0m\u001b[0m\n\u001b[0m",
      "\u001b[0;31mNameError\u001b[0m: name 'Path' is not defined"
     ]
    }
   ],
   "source": [
    "\n",
    "# loads it back\n",
    "from gluonts.model.predictor import Predictor\n",
    "predictor_deserialized = Predictor.deserialize(Path(\"model/gluonts_deepar_tpw/\"))"
   ]
  },
  {
   "cell_type": "code",
   "execution_count": 32,
   "id": "sunset-settle",
   "metadata": {},
   "outputs": [],
   "source": [
    "test_data2 = ListDataset(\n",
    "    random.sample(test_list, 1),\n",
    "    freq=\"D\"\n",
    ")"
   ]
  },
  {
   "cell_type": "code",
   "execution_count": 33,
   "id": "cleared-blade",
   "metadata": {},
   "outputs": [],
   "source": [
    "forecast_it, ts_it = make_evaluation_predictions(\n",
    "    dataset=test_data2,  # test dataset\n",
    "    predictor=predictor,  # predictor\n",
    "    num_samples=100,  # number of sample paths we want for evaluation\n",
    ")"
   ]
  },
  {
   "cell_type": "code",
   "execution_count": 34,
   "id": "f3e5007e-7d83-4542-8f15-84baf36783ad",
   "metadata": {
    "tags": []
   },
   "outputs": [],
   "source": [
    "forecasts = list(forecast_it)\n",
    "tss = list(ts_it)"
   ]
  },
  {
   "cell_type": "code",
   "execution_count": 37,
   "id": "compound-tribune",
   "metadata": {},
   "outputs": [
    {
     "data": {
      "image/png": "[encoded data removed]",
      "text/plain": [
       "<Figure size 720x432 with 1 Axes>"
      ]
     },
     "metadata": {
      "needs_background": "light"
     },
     "output_type": "display_data"
    }
   ],
   "source": [
    "index = 0\n",
    "ts_entry = tss[index]\n",
    "forecast_entry = forecasts[index]\n",
    "\n",
    "plt.figure(figsize=(10, 6))\n",
    "plt.plot(tss[index].to_timestamp(),label=\"test series\")\n",
    "\n",
    "# Assuming forecasts[index] is a gluonts.model.forecast.Forecast object\n",
    "forecast_index = np.array(forecast_entry.index.to_timestamp())\n",
    "forecast_values = np.array(forecast_entry.quantile(0.5))  # Convert to numpy array\n",
    "\n",
    "plt.plot(forecast_index, forecast_values, label=\"median forecast\", color='g')\n",
    "for interval in (0.5, 0.9):\n",
    "    label = interval\n",
    "    low = (1 - interval) / 2\n",
    "    plt.fill_between(\n",
    "        forecast_entry.index.to_timestamp(),\n",
    "        forecast_entry.quantile(low),\n",
    "        forecast_entry.quantile(1 - low),\n",
    "        alpha=0.5 - interval / 3,\n",
    "        facecolor='g',\n",
    "        label=None,\n",
    "    )\n",
    "\n",
    "\n",
    "plt.grid(which=\"both\")\n",
    "plt.axvline(pivoted_df.index[index_train_end], color='r', label=\"end of train series\") # end of train dataset\n",
    "plt.legend(loc=\"lower left\")\n",
    "plt.title('Surface Temperature @ Nakhon Ratchasima')\n",
    "\n",
    "\n",
    "\n",
    "\n",
    "plt.show()"
   ]
  },
  {
   "cell_type": "code",
   "execution_count": 40,
   "id": "initial-bankruptcy",
   "metadata": {},
   "outputs": [
    {
     "name": "stderr",
     "output_type": "stream",
     "text": [
      "WARNING:root:Serializing RepresentableBlockPredictor instances does not save the prediction network structure in a backwards-compatible manner. Be careful not to use this method in production.\n"
     ]
    }
   ],
   "source": [
    "\n",
    "\n",
    "# save the trained model in tmp/\n",
    "from pathlib import Path\n",
    "predictor.serialize(Path(\"model/gluonts_deepar_temp2m/\"))\n"
   ]
  },
  {
   "cell_type": "code",
   "execution_count": 42,
   "id": "passing-florist",
   "metadata": {},
   "outputs": [
    {
     "data": {
      "text/plain": [
       "<gluonts.mx.model.predictor.RepresentableBlockPredictor at 0x154950ee0>"
      ]
     },
     "execution_count": 42,
     "metadata": {},
     "output_type": "execute_result"
    }
   ],
   "source": [
    "predictor_deserialized"
   ]
  },
  {
   "cell_type": "code",
   "execution_count": 43,
   "id": "sharing-interaction",
   "metadata": {},
   "outputs": [],
   "source": [
    "forecast_it, ts_it = make_evaluation_predictions(\n",
    "    dataset=test_data2,  # test dataset\n",
    "    predictor=predictor_deserialized,  # predictor\n",
    "    num_samples=100,  # number of sample paths we want for evaluation\n",
    ")"
   ]
  },
  {
   "cell_type": "code",
   "execution_count": 44,
   "id": "valued-saturn",
   "metadata": {},
   "outputs": [],
   "source": [
    "forecasts_2 = list(forecast_it)\n",
    "tss_2 = list(ts_it)"
   ]
  },
  {
   "cell_type": "code",
   "execution_count": 45,
   "id": "structured-omaha",
   "metadata": {},
   "outputs": [
    {
     "data": {
      "image/png": "[encoded data removed]",
      "text/plain": [
       "<Figure size 720x432 with 1 Axes>"
      ]
     },
     "metadata": {
      "needs_background": "light"
     },
     "output_type": "display_data"
    }
   ],
   "source": [
    "index = 0\n",
    "ts_entry_2 = tss_2[index]\n",
    "forecast_entry_2 = forecasts_2[index]\n",
    "\n",
    "plt.figure(figsize=(10, 6))\n",
    "plt.plot(ts_entry_2[index].to_timestamp(),label=\"test series\")\n",
    "\n",
    "# Assuming forecasts[index] is a gluonts.model.forecast.Forecast object\n",
    "forecast_index = np.array(forecast_entry_2.index.to_timestamp())\n",
    "forecast_values = np.array(forecast_entry_2.quantile(0.5))  # Convert to numpy array\n",
    "\n",
    "plt.plot(forecast_index, forecast_values, label=\"median forecast\", color='g')\n",
    "for interval in (0.5, 0.9):\n",
    "    label = interval\n",
    "    low = (1 - interval) / 2\n",
    "    plt.fill_between(\n",
    "        forecast_entry_2.index.to_timestamp(),\n",
    "        forecast_entry_2.quantile(low),\n",
    "        forecast_entry_2.quantile(1 - low),\n",
    "        alpha=0.5 - interval / 3,\n",
    "        facecolor='g',\n",
    "        label=None,\n",
    "    )\n",
    "\n",
    "\n",
    "plt.grid(which=\"both\")\n",
    "plt.axvline(pivoted_df.index[index_train_end], color='r', label=\"end of train series\") # end of train dataset\n",
    "plt.legend(loc=\"lower left\")\n",
    "plt.title('Surface Temperature @ Nakhon Ratchasima')\n",
    "\n",
    "\n",
    "\n",
    "\n",
    "plt.show()"
   ]
  },
  {
   "cell_type": "code",
   "execution_count": null,
   "id": "durable-economics",
   "metadata": {},
   "outputs": [],
   "source": []
  }
 ],
 "metadata": {
  "availableInstances": [
   {
    "_defaultOrder": 0,
    "_isFastLaunch": true,
    "category": "General purpose",
    "gpuNum": 0,
    "hideHardwareSpecs": false,
    "memoryGiB": 4,
    "name": "ml.t3.medium",
    "vcpuNum": 2
   },
   {
    "_defaultOrder": 1,
    "_isFastLaunch": false,
    "category": "General purpose",
    "gpuNum": 0,
    "hideHardwareSpecs": false,
    "memoryGiB": 8,
    "name": "ml.t3.large",
    "vcpuNum": 2
   },
   {
    "_defaultOrder": 2,
    "_isFastLaunch": false,
    "category": "General purpose",
    "gpuNum": 0,
    "hideHardwareSpecs": false,
    "memoryGiB": 16,
    "name": "ml.t3.xlarge",
    "vcpuNum": 4
   },
   {
    "_defaultOrder": 3,
    "_isFastLaunch": false,
    "category": "General purpose",
    "gpuNum": 0,
    "hideHardwareSpecs": false,
    "memoryGiB": 32,
    "name": "ml.t3.2xlarge",
    "vcpuNum": 8
   },
   {
    "_defaultOrder": 4,
    "_isFastLaunch": true,
    "category": "General purpose",
    "gpuNum": 0,
    "hideHardwareSpecs": false,
    "memoryGiB": 8,
    "name": "ml.m5.large",
    "vcpuNum": 2
   },
   {
    "_defaultOrder": 5,
    "_isFastLaunch": false,
    "category": "General purpose",
    "gpuNum": 0,
    "hideHardwareSpecs": false,
    "memoryGiB": 16,
    "name": "ml.m5.xlarge",
    "vcpuNum": 4
   },
   {
    "_defaultOrder": 6,
    "_isFastLaunch": false,
    "category": "General purpose",
    "gpuNum": 0,
    "hideHardwareSpecs": false,
    "memoryGiB": 32,
    "name": "ml.m5.2xlarge",
    "vcpuNum": 8
   },
   {
    "_defaultOrder": 7,
    "_isFastLaunch": false,
    "category": "General purpose",
    "gpuNum": 0,
    "hideHardwareSpecs": false,
    "memoryGiB": 64,
    "name": "ml.m5.4xlarge",
    "vcpuNum": 16
   },
   {
    "_defaultOrder": 8,
    "_isFastLaunch": false,
    "category": "General purpose",
    "gpuNum": 0,
    "hideHardwareSpecs": false,
    "memoryGiB": 128,
    "name": "ml.m5.8xlarge",
    "vcpuNum": 32
   },
   {
    "_defaultOrder": 9,
    "_isFastLaunch": false,
    "category": "General purpose",
    "gpuNum": 0,
    "hideHardwareSpecs": false,
    "memoryGiB": 192,
    "name": "ml.m5.12xlarge",
    "vcpuNum": 48
   },
   {
    "_defaultOrder": 10,
    "_isFastLaunch": false,
    "category": "General purpose",
    "gpuNum": 0,
    "hideHardwareSpecs": false,
    "memoryGiB": 256,
    "name": "ml.m5.16xlarge",
    "vcpuNum": 64
   },
   {
    "_defaultOrder": 11,
    "_isFastLaunch": false,
    "category": "General purpose",
    "gpuNum": 0,
    "hideHardwareSpecs": false,
    "memoryGiB": 384,
    "name": "ml.m5.24xlarge",
    "vcpuNum": 96
   },
   {
    "_defaultOrder": 12,
    "_isFastLaunch": false,
    "category": "General purpose",
    "gpuNum": 0,
    "hideHardwareSpecs": false,
    "memoryGiB": 8,
    "name": "ml.m5d.large",
    "vcpuNum": 2
   },
   {
    "_defaultOrder": 13,
    "_isFastLaunch": false,
    "category": "General purpose",
    "gpuNum": 0,
    "hideHardwareSpecs": false,
    "memoryGiB": 16,
    "name": "ml.m5d.xlarge",
    "vcpuNum": 4
   },
   {
    "_defaultOrder": 14,
    "_isFastLaunch": false,
    "category": "General purpose",
    "gpuNum": 0,
    "hideHardwareSpecs": false,
    "memoryGiB": 32,
    "name": "ml.m5d.2xlarge",
    "vcpuNum": 8
   },
   {
    "_defaultOrder": 15,
    "_isFastLaunch": false,
    "category": "General purpose",
    "gpuNum": 0,
    "hideHardwareSpecs": false,
    "memoryGiB": 64,
    "name": "ml.m5d.4xlarge",
    "vcpuNum": 16
   },
   {
    "_defaultOrder": 16,
    "_isFastLaunch": false,
    "category": "General purpose",
    "gpuNum": 0,
    "hideHardwareSpecs": false,
    "memoryGiB": 128,
    "name": "ml.m5d.8xlarge",
    "vcpuNum": 32
   },
   {
    "_defaultOrder": 17,
    "_isFastLaunch": false,
    "category": "General purpose",
    "gpuNum": 0,
    "hideHardwareSpecs": false,
    "memoryGiB": 192,
    "name": "ml.m5d.12xlarge",
    "vcpuNum": 48
   },
   {
    "_defaultOrder": 18,
    "_isFastLaunch": false,
    "category": "General purpose",
    "gpuNum": 0,
    "hideHardwareSpecs": false,
    "memoryGiB": 256,
    "name": "ml.m5d.16xlarge",
    "vcpuNum": 64
   },
   {
    "_defaultOrder": 19,
    "_isFastLaunch": false,
    "category": "General purpose",
    "gpuNum": 0,
    "hideHardwareSpecs": false,
    "memoryGiB": 384,
    "name": "ml.m5d.24xlarge",
    "vcpuNum": 96
   },
   {
    "_defaultOrder": 20,
    "_isFastLaunch": false,
    "category": "General purpose",
    "gpuNum": 0,
    "hideHardwareSpecs": true,
    "memoryGiB": 0,
    "name": "ml.geospatial.interactive",
    "supportedImageNames": [
     "sagemaker-geospatial-v1-0"
    ],
    "vcpuNum": 0
   },
   {
    "_defaultOrder": 21,
    "_isFastLaunch": true,
    "category": "Compute optimized",
    "gpuNum": 0,
    "hideHardwareSpecs": false,
    "memoryGiB": 4,
    "name": "ml.c5.large",
    "vcpuNum": 2
   },
   {
    "_defaultOrder": 22,
    "_isFastLaunch": false,
    "category": "Compute optimized",
    "gpuNum": 0,
    "hideHardwareSpecs": false,
    "memoryGiB": 8,
    "name": "ml.c5.xlarge",
    "vcpuNum": 4
   },
   {
    "_defaultOrder": 23,
    "_isFastLaunch": false,
    "category": "Compute optimized",
    "gpuNum": 0,
    "hideHardwareSpecs": false,
    "memoryGiB": 16,
    "name": "ml.c5.2xlarge",
    "vcpuNum": 8
   },
   {
    "_defaultOrder": 24,
    "_isFastLaunch": false,
    "category": "Compute optimized",
    "gpuNum": 0,
    "hideHardwareSpecs": false,
    "memoryGiB": 32,
    "name": "ml.c5.4xlarge",
    "vcpuNum": 16
   },
   {
    "_defaultOrder": 25,
    "_isFastLaunch": false,
    "category": "Compute optimized",
    "gpuNum": 0,
    "hideHardwareSpecs": false,
    "memoryGiB": 72,
    "name": "ml.c5.9xlarge",
    "vcpuNum": 36
   },
   {
    "_defaultOrder": 26,
    "_isFastLaunch": false,
    "category": "Compute optimized",
    "gpuNum": 0,
    "hideHardwareSpecs": false,
    "memoryGiB": 96,
    "name": "ml.c5.12xlarge",
    "vcpuNum": 48
   },
   {
    "_defaultOrder": 27,
    "_isFastLaunch": false,
    "category": "Compute optimized",
    "gpuNum": 0,
    "hideHardwareSpecs": false,
    "memoryGiB": 144,
    "name": "ml.c5.18xlarge",
    "vcpuNum": 72
   },
   {
    "_defaultOrder": 28,
    "_isFastLaunch": false,
    "category": "Compute optimized",
    "gpuNum": 0,
    "hideHardwareSpecs": false,
    "memoryGiB": 192,
    "name": "ml.c5.24xlarge",
    "vcpuNum": 96
   },
   {
    "_defaultOrder": 29,
    "_isFastLaunch": true,
    "category": "Accelerated computing",
    "gpuNum": 1,
    "hideHardwareSpecs": false,
    "memoryGiB": 16,
    "name": "ml.g4dn.xlarge",
    "vcpuNum": 4
   },
   {
    "_defaultOrder": 30,
    "_isFastLaunch": false,
    "category": "Accelerated computing",
    "gpuNum": 1,
    "hideHardwareSpecs": false,
    "memoryGiB": 32,
    "name": "ml.g4dn.2xlarge",
    "vcpuNum": 8
   },
   {
    "_defaultOrder": 31,
    "_isFastLaunch": false,
    "category": "Accelerated computing",
    "gpuNum": 1,
    "hideHardwareSpecs": false,
    "memoryGiB": 64,
    "name": "ml.g4dn.4xlarge",
    "vcpuNum": 16
   },
   {
    "_defaultOrder": 32,
    "_isFastLaunch": false,
    "category": "Accelerated computing",
    "gpuNum": 1,
    "hideHardwareSpecs": false,
    "memoryGiB": 128,
    "name": "ml.g4dn.8xlarge",
    "vcpuNum": 32
   },
   {
    "_defaultOrder": 33,
    "_isFastLaunch": false,
    "category": "Accelerated computing",
    "gpuNum": 4,
    "hideHardwareSpecs": false,
    "memoryGiB": 192,
    "name": "ml.g4dn.12xlarge",
    "vcpuNum": 48
   },
   {
    "_defaultOrder": 34,
    "_isFastLaunch": false,
    "category": "Accelerated computing",
    "gpuNum": 1,
    "hideHardwareSpecs": false,
    "memoryGiB": 256,
    "name": "ml.g4dn.16xlarge",
    "vcpuNum": 64
   },
   {
    "_defaultOrder": 35,
    "_isFastLaunch": false,
    "category": "Accelerated computing",
    "gpuNum": 1,
    "hideHardwareSpecs": false,
    "memoryGiB": 61,
    "name": "ml.p3.2xlarge",
    "vcpuNum": 8
   },
   {
    "_defaultOrder": 36,
    "_isFastLaunch": false,
    "category": "Accelerated computing",
    "gpuNum": 4,
    "hideHardwareSpecs": false,
    "memoryGiB": 244,
    "name": "ml.p3.8xlarge",
    "vcpuNum": 32
   },
   {
    "_defaultOrder": 37,
    "_isFastLaunch": false,
    "category": "Accelerated computing",
    "gpuNum": 8,
    "hideHardwareSpecs": false,
    "memoryGiB": 488,
    "name": "ml.p3.16xlarge",
    "vcpuNum": 64
   },
   {
    "_defaultOrder": 38,
    "_isFastLaunch": false,
    "category": "Accelerated computing",
    "gpuNum": 8,
    "hideHardwareSpecs": false,
    "memoryGiB": 768,
    "name": "ml.p3dn.24xlarge",
    "vcpuNum": 96
   },
   {
    "_defaultOrder": 39,
    "_isFastLaunch": false,
    "category": "Memory Optimized",
    "gpuNum": 0,
    "hideHardwareSpecs": false,
    "memoryGiB": 16,
    "name": "ml.r5.large",
    "vcpuNum": 2
   },
   {
    "_defaultOrder": 40,
    "_isFastLaunch": false,
    "category": "Memory Optimized",
    "gpuNum": 0,
    "hideHardwareSpecs": false,
    "memoryGiB": 32,
    "name": "ml.r5.xlarge",
    "vcpuNum": 4
   },
   {
    "_defaultOrder": 41,
    "_isFastLaunch": false,
    "category": "Memory Optimized",
    "gpuNum": 0,
    "hideHardwareSpecs": false,
    "memoryGiB": 64,
    "name": "ml.r5.2xlarge",
    "vcpuNum": 8
   },
   {
    "_defaultOrder": 42,
    "_isFastLaunch": false,
    "category": "Memory Optimized",
    "gpuNum": 0,
    "hideHardwareSpecs": false,
    "memoryGiB": 128,
    "name": "ml.r5.4xlarge",
    "vcpuNum": 16
   },
   {
    "_defaultOrder": 43,
    "_isFastLaunch": false,
    "category": "Memory Optimized",
    "gpuNum": 0,
    "hideHardwareSpecs": false,
    "memoryGiB": 256,
    "name": "ml.r5.8xlarge",
    "vcpuNum": 32
   },
   {
    "_defaultOrder": 44,
    "_isFastLaunch": false,
    "category": "Memory Optimized",
    "gpuNum": 0,
    "hideHardwareSpecs": false,
    "memoryGiB": 384,
    "name": "ml.r5.12xlarge",
    "vcpuNum": 48
   },
   {
    "_defaultOrder": 45,
    "_isFastLaunch": false,
    "category": "Memory Optimized",
    "gpuNum": 0,
    "hideHardwareSpecs": false,
    "memoryGiB": 512,
    "name": "ml.r5.16xlarge",
    "vcpuNum": 64
   },
   {
    "_defaultOrder": 46,
    "_isFastLaunch": false,
    "category": "Memory Optimized",
    "gpuNum": 0,
    "hideHardwareSpecs": false,
    "memoryGiB": 768,
    "name": "ml.r5.24xlarge",
    "vcpuNum": 96
   },
   {
    "_defaultOrder": 47,
    "_isFastLaunch": false,
    "category": "Accelerated computing",
    "gpuNum": 1,
    "hideHardwareSpecs": false,
    "memoryGiB": 16,
    "name": "ml.g5.xlarge",
    "vcpuNum": 4
   },
   {
    "_defaultOrder": 48,
    "_isFastLaunch": false,
    "category": "Accelerated computing",
    "gpuNum": 1,
    "hideHardwareSpecs": false,
    "memoryGiB": 32,
    "name": "ml.g5.2xlarge",
    "vcpuNum": 8
   },
   {
    "_defaultOrder": 49,
    "_isFastLaunch": false,
    "category": "Accelerated computing",
    "gpuNum": 1,
    "hideHardwareSpecs": false,
    "memoryGiB": 64,
    "name": "ml.g5.4xlarge",
    "vcpuNum": 16
   },
   {
    "_defaultOrder": 50,
    "_isFastLaunch": false,
    "category": "Accelerated computing",
    "gpuNum": 1,
    "hideHardwareSpecs": false,
    "memoryGiB": 128,
    "name": "ml.g5.8xlarge",
    "vcpuNum": 32
   },
   {
    "_defaultOrder": 51,
    "_isFastLaunch": false,
    "category": "Accelerated computing",
    "gpuNum": 1,
    "hideHardwareSpecs": false,
    "memoryGiB": 256,
    "name": "ml.g5.16xlarge",
    "vcpuNum": 64
   },
   {
    "_defaultOrder": 52,
    "_isFastLaunch": false,
    "category": "Accelerated computing",
    "gpuNum": 4,
    "hideHardwareSpecs": false,
    "memoryGiB": 192,
    "name": "ml.g5.12xlarge",
    "vcpuNum": 48
   },
   {
    "_defaultOrder": 53,
    "_isFastLaunch": false,
    "category": "Accelerated computing",
    "gpuNum": 4,
    "hideHardwareSpecs": false,
    "memoryGiB": 384,
    "name": "ml.g5.24xlarge",
    "vcpuNum": 96
   },
   {
    "_defaultOrder": 54,
    "_isFastLaunch": false,
    "category": "Accelerated computing",
    "gpuNum": 8,
    "hideHardwareSpecs": false,
    "memoryGiB": 768,
    "name": "ml.g5.48xlarge",
    "vcpuNum": 192
   },
   {
    "_defaultOrder": 55,
    "_isFastLaunch": false,
    "category": "Accelerated computing",
    "gpuNum": 8,
    "hideHardwareSpecs": false,
    "memoryGiB": 1152,
    "name": "ml.p4d.24xlarge",
    "vcpuNum": 96
   },
   {
    "_defaultOrder": 56,
    "_isFastLaunch": false,
    "category": "Accelerated computing",
    "gpuNum": 8,
    "hideHardwareSpecs": false,
    "memoryGiB": 1152,
    "name": "ml.p4de.24xlarge",
    "vcpuNum": 96
   }
  ],
  "instance_type": "ml.t3.medium",
  "kernelspec": {
   "display_name": "Python 3",
   "language": "python",
   "name": "python3"
  },
  "language_info": {
   "codemirror_mode": {
    "name": "ipython",
    "version": 3
   },
   "file_extension": ".py",
   "mimetype": "text/x-python",
   "name": "python",
   "nbconvert_exporter": "python",
   "pygments_lexer": "ipython3",
   "version": "3.9.17"
  }
 },
 "nbformat": 4,
 "nbformat_minor": 5
}
