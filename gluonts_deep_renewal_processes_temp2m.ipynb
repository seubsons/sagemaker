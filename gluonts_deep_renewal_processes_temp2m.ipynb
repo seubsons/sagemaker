{
 "cells": [
  {
   "cell_type": "code",
   "execution_count": 12,
   "id": "b23fd42b-8ec9-4194-8193-2ed1932aa163",
   "metadata": {
    "tags": []
   },
   "outputs": [],
   "source": [
    "# !pip install xarray prophet gluonts mxnet h5py mxnet-mkl==1.6.0 numpy==1.23.1"
   ]
  },
  {
   "cell_type": "code",
   "execution_count": 2,
   "id": "97fadd16-6c49-43e8-81ec-05208a420d3d",
   "metadata": {
    "tags": []
   },
   "outputs": [],
   "source": [
    "import xarray as xr\n",
    "import pandas as pd\n",
    "import numpy as np\n",
    "import datetime\n",
    "import matplotlib.pyplot as plt\n",
    "from prophet import Prophet\n",
    "from matplotlib.dates import date2num\n",
    "\n",
    "from gluonts.mx.model.renewal import DeepRenewalProcessEstimator\n",
    "from gluonts.mx.distribution import ZeroInflatedNegativeBinomialOutput, StudentTOutput #likelihood\n",
    "from gluonts.mx.trainer.learning_rate_scheduler import LearningRateReduction\n",
    "from gluonts.mx.trainer import Trainer\n",
    "from gluonts.mx.trainer.model_averaging import ModelAveraging, SelectNBestSoftmax, SelectNBestMean\n",
    "\n",
    "from gluonts.evaluation import Evaluator\n",
    "from gluonts.evaluation.backtest import make_evaluation_predictions\n",
    "from gluonts.dataset.common import ListDataset\n",
    "from gluonts.dataset.util import to_pandas\n",
    "import random\n",
    "\n",
    "latitudes = np.flipud(np.arange(65) * 0.25 + 5)\n",
    "longitudes = np.arange(37) * 0.25 + 97"
   ]
  },
  {
   "cell_type": "code",
   "execution_count": 6,
   "id": "d03ccf78-1281-4832-83d0-62daef6fa93f",
   "metadata": {
    "tags": []
   },
   "outputs": [
    {
     "data": {
      "text/html": [
       "<div>\n",
       "<style scoped>\n",
       "    .dataframe tbody tr th:only-of-type {\n",
       "        vertical-align: middle;\n",
       "    }\n",
       "\n",
       "    .dataframe tbody tr th {\n",
       "        vertical-align: top;\n",
       "    }\n",
       "\n",
       "    .dataframe thead th {\n",
       "        text-align: right;\n",
       "    }\n",
       "</style>\n",
       "<table border=\"1\" class=\"dataframe\">\n",
       "  <thead>\n",
       "    <tr style=\"text-align: right;\">\n",
       "      <th>lat_lon</th>\n",
       "      <th>10.0, 100.0</th>\n",
       "      <th>10.0, 100.25</th>\n",
       "      <th>10.0, 100.5</th>\n",
       "      <th>10.0, 100.75</th>\n",
       "      <th>10.0, 101.0</th>\n",
       "      <th>10.0, 101.25</th>\n",
       "      <th>10.0, 101.5</th>\n",
       "      <th>10.0, 101.75</th>\n",
       "      <th>10.0, 102.0</th>\n",
       "      <th>10.0, 102.25</th>\n",
       "      <th>...</th>\n",
       "      <th>9.75, 97.5</th>\n",
       "      <th>9.75, 97.75</th>\n",
       "      <th>9.75, 98.0</th>\n",
       "      <th>9.75, 98.25</th>\n",
       "      <th>9.75, 98.5</th>\n",
       "      <th>9.75, 98.75</th>\n",
       "      <th>9.75, 99.0</th>\n",
       "      <th>9.75, 99.25</th>\n",
       "      <th>9.75, 99.5</th>\n",
       "      <th>9.75, 99.75</th>\n",
       "    </tr>\n",
       "    <tr>\n",
       "      <th>date</th>\n",
       "      <th></th>\n",
       "      <th></th>\n",
       "      <th></th>\n",
       "      <th></th>\n",
       "      <th></th>\n",
       "      <th></th>\n",
       "      <th></th>\n",
       "      <th></th>\n",
       "      <th></th>\n",
       "      <th></th>\n",
       "      <th></th>\n",
       "      <th></th>\n",
       "      <th></th>\n",
       "      <th></th>\n",
       "      <th></th>\n",
       "      <th></th>\n",
       "      <th></th>\n",
       "      <th></th>\n",
       "      <th></th>\n",
       "      <th></th>\n",
       "      <th></th>\n",
       "    </tr>\n",
       "  </thead>\n",
       "  <tbody>\n",
       "    <tr>\n",
       "      <th>2020-01-01</th>\n",
       "      <td>28.162183</td>\n",
       "      <td>28.162183</td>\n",
       "      <td>28.262183</td>\n",
       "      <td>28.362183</td>\n",
       "      <td>28.462183</td>\n",
       "      <td>28.462183</td>\n",
       "      <td>28.562183</td>\n",
       "      <td>28.562183</td>\n",
       "      <td>28.662183</td>\n",
       "      <td>28.662183</td>\n",
       "      <td>...</td>\n",
       "      <td>27.962183</td>\n",
       "      <td>27.962183</td>\n",
       "      <td>28.062183</td>\n",
       "      <td>27.962183</td>\n",
       "      <td>31.562183</td>\n",
       "      <td>31.662183</td>\n",
       "      <td>31.162183</td>\n",
       "      <td>27.862183</td>\n",
       "      <td>27.962183</td>\n",
       "      <td>27.962183</td>\n",
       "    </tr>\n",
       "    <tr>\n",
       "      <th>2020-01-02</th>\n",
       "      <td>28.121875</td>\n",
       "      <td>28.121875</td>\n",
       "      <td>28.221875</td>\n",
       "      <td>28.221875</td>\n",
       "      <td>28.221875</td>\n",
       "      <td>28.321875</td>\n",
       "      <td>28.521875</td>\n",
       "      <td>29.021875</td>\n",
       "      <td>29.121875</td>\n",
       "      <td>29.121875</td>\n",
       "      <td>...</td>\n",
       "      <td>27.721875</td>\n",
       "      <td>27.821875</td>\n",
       "      <td>27.821875</td>\n",
       "      <td>28.021875</td>\n",
       "      <td>31.521875</td>\n",
       "      <td>31.721875</td>\n",
       "      <td>31.021875</td>\n",
       "      <td>27.821875</td>\n",
       "      <td>27.821875</td>\n",
       "      <td>27.913818</td>\n",
       "    </tr>\n",
       "    <tr>\n",
       "      <th>2020-01-03</th>\n",
       "      <td>28.470313</td>\n",
       "      <td>28.670313</td>\n",
       "      <td>28.770313</td>\n",
       "      <td>28.770313</td>\n",
       "      <td>28.770313</td>\n",
       "      <td>28.770313</td>\n",
       "      <td>28.770313</td>\n",
       "      <td>28.770313</td>\n",
       "      <td>28.670313</td>\n",
       "      <td>28.670313</td>\n",
       "      <td>...</td>\n",
       "      <td>27.895728</td>\n",
       "      <td>27.795728</td>\n",
       "      <td>27.870313</td>\n",
       "      <td>28.170313</td>\n",
       "      <td>31.670313</td>\n",
       "      <td>31.370313</td>\n",
       "      <td>30.870313</td>\n",
       "      <td>28.070313</td>\n",
       "      <td>27.970313</td>\n",
       "      <td>27.970313</td>\n",
       "    </tr>\n",
       "    <tr>\n",
       "      <th>2020-01-04</th>\n",
       "      <td>28.396338</td>\n",
       "      <td>28.396338</td>\n",
       "      <td>28.448950</td>\n",
       "      <td>28.496338</td>\n",
       "      <td>28.496338</td>\n",
       "      <td>28.596338</td>\n",
       "      <td>28.596338</td>\n",
       "      <td>28.596338</td>\n",
       "      <td>28.548950</td>\n",
       "      <td>28.596338</td>\n",
       "      <td>...</td>\n",
       "      <td>28.048950</td>\n",
       "      <td>28.096338</td>\n",
       "      <td>28.096338</td>\n",
       "      <td>28.196338</td>\n",
       "      <td>31.996338</td>\n",
       "      <td>32.396338</td>\n",
       "      <td>31.596338</td>\n",
       "      <td>28.148950</td>\n",
       "      <td>28.196338</td>\n",
       "      <td>28.248950</td>\n",
       "    </tr>\n",
       "    <tr>\n",
       "      <th>2020-01-05</th>\n",
       "      <td>28.538770</td>\n",
       "      <td>28.638770</td>\n",
       "      <td>28.638770</td>\n",
       "      <td>28.638770</td>\n",
       "      <td>28.638770</td>\n",
       "      <td>28.638770</td>\n",
       "      <td>28.738770</td>\n",
       "      <td>28.938770</td>\n",
       "      <td>28.938770</td>\n",
       "      <td>28.938770</td>\n",
       "      <td>...</td>\n",
       "      <td>28.050024</td>\n",
       "      <td>27.950024</td>\n",
       "      <td>28.038770</td>\n",
       "      <td>28.138770</td>\n",
       "      <td>32.338770</td>\n",
       "      <td>32.138770</td>\n",
       "      <td>31.438770</td>\n",
       "      <td>28.238770</td>\n",
       "      <td>28.338770</td>\n",
       "      <td>28.338770</td>\n",
       "    </tr>\n",
       "    <tr>\n",
       "      <th>...</th>\n",
       "      <td>...</td>\n",
       "      <td>...</td>\n",
       "      <td>...</td>\n",
       "      <td>...</td>\n",
       "      <td>...</td>\n",
       "      <td>...</td>\n",
       "      <td>...</td>\n",
       "      <td>...</td>\n",
       "      <td>...</td>\n",
       "      <td>...</td>\n",
       "      <td>...</td>\n",
       "      <td>...</td>\n",
       "      <td>...</td>\n",
       "      <td>...</td>\n",
       "      <td>...</td>\n",
       "      <td>...</td>\n",
       "      <td>...</td>\n",
       "      <td>...</td>\n",
       "      <td>...</td>\n",
       "      <td>...</td>\n",
       "      <td>...</td>\n",
       "    </tr>\n",
       "    <tr>\n",
       "      <th>2023-11-17</th>\n",
       "      <td>28.529922</td>\n",
       "      <td>28.759922</td>\n",
       "      <td>28.909922</td>\n",
       "      <td>28.949922</td>\n",
       "      <td>28.939922</td>\n",
       "      <td>28.919922</td>\n",
       "      <td>28.829922</td>\n",
       "      <td>28.679922</td>\n",
       "      <td>28.569922</td>\n",
       "      <td>28.569922</td>\n",
       "      <td>...</td>\n",
       "      <td>28.467754</td>\n",
       "      <td>28.303398</td>\n",
       "      <td>28.143398</td>\n",
       "      <td>28.013398</td>\n",
       "      <td>27.809922</td>\n",
       "      <td>25.489922</td>\n",
       "      <td>26.829922</td>\n",
       "      <td>27.869922</td>\n",
       "      <td>27.859922</td>\n",
       "      <td>27.959922</td>\n",
       "    </tr>\n",
       "    <tr>\n",
       "      <th>2023-11-18</th>\n",
       "      <td>27.884727</td>\n",
       "      <td>27.914727</td>\n",
       "      <td>28.007402</td>\n",
       "      <td>28.297402</td>\n",
       "      <td>28.707402</td>\n",
       "      <td>28.877402</td>\n",
       "      <td>28.767402</td>\n",
       "      <td>28.537402</td>\n",
       "      <td>28.207402</td>\n",
       "      <td>28.101074</td>\n",
       "      <td>...</td>\n",
       "      <td>28.131074</td>\n",
       "      <td>28.031074</td>\n",
       "      <td>27.801074</td>\n",
       "      <td>27.474727</td>\n",
       "      <td>26.744727</td>\n",
       "      <td>24.024727</td>\n",
       "      <td>25.644727</td>\n",
       "      <td>27.538940</td>\n",
       "      <td>27.764727</td>\n",
       "      <td>27.804727</td>\n",
       "    </tr>\n",
       "    <tr>\n",
       "      <th>2023-11-19</th>\n",
       "      <td>27.587480</td>\n",
       "      <td>27.646133</td>\n",
       "      <td>28.076133</td>\n",
       "      <td>27.996133</td>\n",
       "      <td>27.986133</td>\n",
       "      <td>27.977480</td>\n",
       "      <td>28.001367</td>\n",
       "      <td>27.976133</td>\n",
       "      <td>27.877480</td>\n",
       "      <td>27.957480</td>\n",
       "      <td>...</td>\n",
       "      <td>27.746133</td>\n",
       "      <td>27.976133</td>\n",
       "      <td>28.376133</td>\n",
       "      <td>28.826133</td>\n",
       "      <td>29.356133</td>\n",
       "      <td>27.426133</td>\n",
       "      <td>27.586133</td>\n",
       "      <td>28.016133</td>\n",
       "      <td>27.926133</td>\n",
       "      <td>27.936133</td>\n",
       "    </tr>\n",
       "    <tr>\n",
       "      <th>2023-11-20</th>\n",
       "      <td>27.837461</td>\n",
       "      <td>27.827461</td>\n",
       "      <td>27.777461</td>\n",
       "      <td>28.027461</td>\n",
       "      <td>28.117461</td>\n",
       "      <td>28.227461</td>\n",
       "      <td>28.277461</td>\n",
       "      <td>28.267461</td>\n",
       "      <td>28.032520</td>\n",
       "      <td>28.112520</td>\n",
       "      <td>...</td>\n",
       "      <td>27.723867</td>\n",
       "      <td>27.353867</td>\n",
       "      <td>27.353867</td>\n",
       "      <td>28.077461</td>\n",
       "      <td>29.127461</td>\n",
       "      <td>26.627461</td>\n",
       "      <td>27.037461</td>\n",
       "      <td>27.532520</td>\n",
       "      <td>27.767461</td>\n",
       "      <td>27.967461</td>\n",
       "    </tr>\n",
       "    <tr>\n",
       "      <th>2023-11-21</th>\n",
       "      <td>27.898398</td>\n",
       "      <td>28.018398</td>\n",
       "      <td>27.938398</td>\n",
       "      <td>27.898398</td>\n",
       "      <td>28.048398</td>\n",
       "      <td>28.048398</td>\n",
       "      <td>28.048398</td>\n",
       "      <td>28.008398</td>\n",
       "      <td>28.128398</td>\n",
       "      <td>28.218398</td>\n",
       "      <td>...</td>\n",
       "      <td>26.528398</td>\n",
       "      <td>26.668398</td>\n",
       "      <td>26.378398</td>\n",
       "      <td>25.908398</td>\n",
       "      <td>23.448398</td>\n",
       "      <td>20.588398</td>\n",
       "      <td>21.468398</td>\n",
       "      <td>25.628398</td>\n",
       "      <td>27.598398</td>\n",
       "      <td>27.738398</td>\n",
       "    </tr>\n",
       "  </tbody>\n",
       "</table>\n",
       "<p>1421 rows × 2405 columns</p>\n",
       "</div>"
      ],
      "text/plain": [
       "lat_lon     10.0, 100.0  10.0, 100.25  10.0, 100.5  10.0, 100.75  10.0, 101.0  \\\n",
       "date                                                                            \n",
       "2020-01-01    28.162183     28.162183    28.262183     28.362183    28.462183   \n",
       "2020-01-02    28.121875     28.121875    28.221875     28.221875    28.221875   \n",
       "2020-01-03    28.470313     28.670313    28.770313     28.770313    28.770313   \n",
       "2020-01-04    28.396338     28.396338    28.448950     28.496338    28.496338   \n",
       "2020-01-05    28.538770     28.638770    28.638770     28.638770    28.638770   \n",
       "...                 ...           ...          ...           ...          ...   \n",
       "2023-11-17    28.529922     28.759922    28.909922     28.949922    28.939922   \n",
       "2023-11-18    27.884727     27.914727    28.007402     28.297402    28.707402   \n",
       "2023-11-19    27.587480     27.646133    28.076133     27.996133    27.986133   \n",
       "2023-11-20    27.837461     27.827461    27.777461     28.027461    28.117461   \n",
       "2023-11-21    27.898398     28.018398    27.938398     27.898398    28.048398   \n",
       "\n",
       "lat_lon     10.0, 101.25  10.0, 101.5  10.0, 101.75  10.0, 102.0  \\\n",
       "date                                                               \n",
       "2020-01-01     28.462183    28.562183     28.562183    28.662183   \n",
       "2020-01-02     28.321875    28.521875     29.021875    29.121875   \n",
       "2020-01-03     28.770313    28.770313     28.770313    28.670313   \n",
       "2020-01-04     28.596338    28.596338     28.596338    28.548950   \n",
       "2020-01-05     28.638770    28.738770     28.938770    28.938770   \n",
       "...                  ...          ...           ...          ...   \n",
       "2023-11-17     28.919922    28.829922     28.679922    28.569922   \n",
       "2023-11-18     28.877402    28.767402     28.537402    28.207402   \n",
       "2023-11-19     27.977480    28.001367     27.976133    27.877480   \n",
       "2023-11-20     28.227461    28.277461     28.267461    28.032520   \n",
       "2023-11-21     28.048398    28.048398     28.008398    28.128398   \n",
       "\n",
       "lat_lon     10.0, 102.25  ...  9.75, 97.5  9.75, 97.75  9.75, 98.0  \\\n",
       "date                      ...                                        \n",
       "2020-01-01     28.662183  ...   27.962183    27.962183   28.062183   \n",
       "2020-01-02     29.121875  ...   27.721875    27.821875   27.821875   \n",
       "2020-01-03     28.670313  ...   27.895728    27.795728   27.870313   \n",
       "2020-01-04     28.596338  ...   28.048950    28.096338   28.096338   \n",
       "2020-01-05     28.938770  ...   28.050024    27.950024   28.038770   \n",
       "...                  ...  ...         ...          ...         ...   \n",
       "2023-11-17     28.569922  ...   28.467754    28.303398   28.143398   \n",
       "2023-11-18     28.101074  ...   28.131074    28.031074   27.801074   \n",
       "2023-11-19     27.957480  ...   27.746133    27.976133   28.376133   \n",
       "2023-11-20     28.112520  ...   27.723867    27.353867   27.353867   \n",
       "2023-11-21     28.218398  ...   26.528398    26.668398   26.378398   \n",
       "\n",
       "lat_lon     9.75, 98.25  9.75, 98.5  9.75, 98.75  9.75, 99.0  9.75, 99.25  \\\n",
       "date                                                                        \n",
       "2020-01-01    27.962183   31.562183    31.662183   31.162183    27.862183   \n",
       "2020-01-02    28.021875   31.521875    31.721875   31.021875    27.821875   \n",
       "2020-01-03    28.170313   31.670313    31.370313   30.870313    28.070313   \n",
       "2020-01-04    28.196338   31.996338    32.396338   31.596338    28.148950   \n",
       "2020-01-05    28.138770   32.338770    32.138770   31.438770    28.238770   \n",
       "...                 ...         ...          ...         ...          ...   \n",
       "2023-11-17    28.013398   27.809922    25.489922   26.829922    27.869922   \n",
       "2023-11-18    27.474727   26.744727    24.024727   25.644727    27.538940   \n",
       "2023-11-19    28.826133   29.356133    27.426133   27.586133    28.016133   \n",
       "2023-11-20    28.077461   29.127461    26.627461   27.037461    27.532520   \n",
       "2023-11-21    25.908398   23.448398    20.588398   21.468398    25.628398   \n",
       "\n",
       "lat_lon     9.75, 99.5  9.75, 99.75  \n",
       "date                                 \n",
       "2020-01-01   27.962183    27.962183  \n",
       "2020-01-02   27.821875    27.913818  \n",
       "2020-01-03   27.970313    27.970313  \n",
       "2020-01-04   28.196338    28.248950  \n",
       "2020-01-05   28.338770    28.338770  \n",
       "...                ...          ...  \n",
       "2023-11-17   27.859922    27.959922  \n",
       "2023-11-18   27.764727    27.804727  \n",
       "2023-11-19   27.926133    27.936133  \n",
       "2023-11-20   27.767461    27.967461  \n",
       "2023-11-21   27.598398    27.738398  \n",
       "\n",
       "[1421 rows x 2405 columns]"
      ]
     },
     "execution_count": 6,
     "metadata": {},
     "output_type": "execute_result"
    }
   ],
   "source": [
    "ds = xr.open_dataset(\"data/temp2m.nc\")\n",
    "df = ds.to_dataframe()\n",
    "df.reset_index(inplace=True)\n",
    "df['date'] = df['date'].dt.date\n",
    "df['lat'] = [latitudes[i] for i in df['lat']]\n",
    "df['lon'] = [longitudes[i] for i in df['lon']]\n",
    "df['lat_lon'] = df['lat'].astype(str) + ', ' + df['lon'].astype(str)\n",
    "df = df.groupby(['date', 'lat_lon'])['temp2m'].max().reset_index()\n",
    "pivoted_df = df.pivot(index=['date'], columns='lat_lon', values='temp2m').reset_index()\n",
    "pivoted_df = pivoted_df.set_index('date')\n",
    "pivoted_df"
   ]
  },
  {
   "cell_type": "code",
   "execution_count": 7,
   "id": "3228cba5-029d-4df0-b262-ab74194bca07",
   "metadata": {
    "tags": []
   },
   "outputs": [],
   "source": [
    "training_list = []\n",
    "for data in pivoted_df:\n",
    "    training_list.append({\"start\": pivoted_df.index[0], \"target\": pivoted_df[data][:datetime.date(2023, 1, 1)].tolist()})"
   ]
  },
  {
   "cell_type": "code",
   "execution_count": 8,
   "id": "5dc0146a-7a00-45ba-a66e-18cfd1346803",
   "metadata": {
    "tags": []
   },
   "outputs": [],
   "source": [
    "training_data = ListDataset(\n",
    "    training_list,\n",
    "    freq=\"D\"\n",
    ")"
   ]
  },
  {
   "cell_type": "code",
   "execution_count": 9,
   "id": "0d02a515-b400-401f-94f8-f2e41cb44d50",
   "metadata": {
    "tags": []
   },
   "outputs": [],
   "source": [
    "entry = next(iter(training_data))\n",
    "train_series = to_pandas(entry)"
   ]
  },
  {
   "cell_type": "code",
   "execution_count": 10,
   "id": "ae568f59-a4e7-4906-8c89-28f32ffb0084",
   "metadata": {
    "tags": []
   },
   "outputs": [],
   "source": [
    "test_list = []\n",
    "for data in pivoted_df:\n",
    "    test_list.append({\"start\": pivoted_df.index[0], \"target\": pivoted_df[data][:datetime.date(2023, 11, 19)].tolist()})"
   ]
  },
  {
   "cell_type": "code",
   "execution_count": 11,
   "id": "7472502d-20cb-4446-a5e0-be43e147aae8",
   "metadata": {
    "tags": []
   },
   "outputs": [],
   "source": [
    "test_data = ListDataset(\n",
    "    test_list,\n",
    "    freq=\"D\"\n",
    ")"
   ]
  },
  {
   "cell_type": "code",
   "execution_count": 12,
   "id": "ef428520-4b37-4dc3-a706-b2d5359563af",
   "metadata": {
    "tags": []
   },
   "outputs": [],
   "source": [
    "entry = next(iter(test_data))\n",
    "test_series = to_pandas(entry)"
   ]
  },
  {
   "cell_type": "code",
   "execution_count": 13,
   "id": "7d7d86fd-54a0-4a27-93ab-0ea56a4de455",
   "metadata": {
    "tags": []
   },
   "outputs": [],
   "source": [
    "index_train_end = pivoted_df.index.get_loc(datetime.date(2023, 1, 1))"
   ]
  },
  {
   "cell_type": "code",
   "execution_count": 14,
   "id": "913c0950-3f51-4a56-8cd9-1a58a2b03a12",
   "metadata": {
    "tags": []
   },
   "outputs": [
    {
     "data": {
      "text/plain": [
       "1096"
      ]
     },
     "execution_count": 14,
     "metadata": {},
     "output_type": "execute_result"
    }
   ],
   "source": [
    "index_train_end"
   ]
  },
  {
   "cell_type": "code",
   "execution_count": 15,
   "id": "144abba5-03fc-4a4f-bb4e-8d072b3d3392",
   "metadata": {
    "tags": []
   },
   "outputs": [
    {
     "data": {
      "image/png": "[encoded data removed]",
      "text/plain": [
       "<Figure size 720x432 with 1 Axes>"
      ]
     },
     "metadata": {
      "needs_background": "light"
     },
     "output_type": "display_data"
    }
   ],
   "source": [
    "plt.figure(figsize=(10, 6))\n",
    "test_series.plot(title='Heat Index @ Bangkok')\n",
    "\n",
    "plt.axvline(pivoted_df.index[index_train_end], color='r') # end of train dataset\n",
    "plt.grid(which=\"both\")\n",
    "plt.legend([\"test series\", \"end of train series\"], loc=\"lower left\")\n",
    "plt.show()"
   ]
  },
  {
   "cell_type": "markdown",
   "id": "a04777b6-1b47-431c-a588-811438d86b6f",
   "metadata": {},
   "source": [
    "## Select the Model"
   ]
  },
  {
   "cell_type": "code",
   "execution_count": 12,
   "id": "4c0c7b7e-c997-4078-bab0-a7ee593c1e92",
   "metadata": {
    "tags": []
   },
   "outputs": [],
   "source": [
    "callbacks = [\n",
    "    LearningRateReduction(objective=\"min\",\n",
    "                          patience=10,\n",
    "                          base_lr=1e-3,\n",
    "                          decay_factor=0.5,\n",
    "                          ),\n",
    "    ModelAveraging(avg_strategy=SelectNBestMean(num_models=2))\n",
    "]\n",
    "\n",
    "\n",
    "estimator = DeepRenewalProcessEstimator(\n",
    "#     freq=\"1D\",\n",
    "    prediction_length=306,\n",
    "    context_length=306,\n",
    "    num_layers = 10,\n",
    "    num_cells = 500,\n",
    "#     distr_output=StudentTOutput(),\n",
    "    dropout_rate=0.01,\n",
    "    trainer=Trainer(#ctx = mx.context.gpu(),\n",
    "                    epochs=10,\n",
    "                    callbacks=callbacks))\n",
    "\n",
    "\n",
    "# estimator = DeepAREstimator(\n",
    "#     freq=\"M\",\n",
    "#     prediction_length=306,\n",
    "#     context_length=306,\n",
    "#     num_layers = 2,\n",
    "#     num_cells = 50,\n",
    "#     distr_output=StudentTOutput(),\n",
    "#     dropout_rate=0.01,\n",
    "#     trainer=Trainer(#ctx = mx.context.gpu(),\n",
    "#                     epochs=1,\n",
    "#                     callbacks=callbacks))\n"
   ]
  },
  {
   "cell_type": "code",
   "execution_count": 13,
   "id": "1167c7a4-aede-4c46-8fdd-77bbe5cb328c",
   "metadata": {
    "tags": []
   },
   "outputs": [
    {
     "name": "stderr",
     "output_type": "stream",
     "text": [
      "100%|██████████| 50/50 [20:25<00:00, 24.51s/it, epoch=1/10, avg_epoch_loss=4.06]\n",
      "100%|██████████| 50/50 [25:22<00:00, 30.45s/it, epoch=2/10, avg_epoch_loss=3.97]\n",
      "100%|██████████| 50/50 [25:29<00:00, 30.58s/it, epoch=3/10, avg_epoch_loss=4]   \n",
      "100%|██████████| 50/50 [24:34<00:00, 29.49s/it, epoch=4/10, avg_epoch_loss=3.98]\n",
      "100%|██████████| 50/50 [23:28<00:00, 28.18s/it, epoch=5/10, avg_epoch_loss=3.82]\n",
      "100%|██████████| 50/50 [23:16<00:00, 27.92s/it, epoch=6/10, avg_epoch_loss=3.82]\n",
      "100%|██████████| 50/50 [23:08<00:00, 27.76s/it, epoch=7/10, avg_epoch_loss=3.81]\n",
      "100%|██████████| 50/50 [25:44<00:00, 30.88s/it, epoch=8/10, avg_epoch_loss=3.8] \n",
      "100%|██████████| 50/50 [26:19<00:00, 31.58s/it, epoch=9/10, avg_epoch_loss=3.89]\n",
      "100%|██████████| 50/50 [27:27<00:00, 32.96s/it, epoch=10/10, avg_epoch_loss=3.95]\n"
     ]
    }
   ],
   "source": [
    "predictor = estimator.train(training_data)"
   ]
  },
  {
   "cell_type": "code",
   "execution_count": 14,
   "id": "distributed-expansion",
   "metadata": {},
   "outputs": [
    {
     "name": "stderr",
     "output_type": "stream",
     "text": [
      "WARNING:root:Serializing RepresentableBlockPredictor instances does not save the prediction network structure in a backwards-compatible manner. Be careful not to use this method in production.\n"
     ]
    }
   ],
   "source": [
    "\n",
    "# save the trained model in tmp/\n",
    "from pathlib import Path\n",
    "predictor.serialize(Path(\"model/gluonts_deep_renewal_processes_temp2m/\"))\n"
   ]
  },
  {
   "cell_type": "code",
   "execution_count": 4,
   "id": "sorted-vatican",
   "metadata": {},
   "outputs": [],
   "source": [
    "\n",
    "# loads it back\n",
    "from gluonts.model.predictor import Predictor\n",
    "from pathlib import Path\n",
    "predictor_deserialized = Predictor.deserialize(Path(\"model/gluonts_deep_renewal_processes_temp2m/\"))"
   ]
  },
  {
   "cell_type": "code",
   "execution_count": 44,
   "id": "eadf95b5-9ed6-47ef-85ba-8e2e83d55bf1",
   "metadata": {
    "tags": []
   },
   "outputs": [],
   "source": [
    "# forecast_it, ts_it = make_evaluation_predictions(\n",
    "#     dataset=test_data,  # test dataset\n",
    "#     predictor=predictor,  # predictor\n",
    "#     num_samples=100,  # number of sample paths we want for evaluation\n",
    "# )"
   ]
  },
  {
   "cell_type": "code",
   "execution_count": 16,
   "id": "sunset-settle",
   "metadata": {},
   "outputs": [],
   "source": [
    "test_data2 = ListDataset(\n",
    "    random.sample(test_list, 1),\n",
    "    freq=\"D\"\n",
    ")"
   ]
  },
  {
   "cell_type": "code",
   "execution_count": 18,
   "id": "cleared-blade",
   "metadata": {},
   "outputs": [],
   "source": [
    "forecast_it, ts_it = make_evaluation_predictions(\n",
    "    dataset=test_data2,  # test dataset\n",
    "    predictor=predictor_deserialized,  # predictor\n",
    "    num_samples=100,  # number of sample paths we want for evaluation\n",
    ")"
   ]
  },
  {
   "cell_type": "code",
   "execution_count": 19,
   "id": "f3e5007e-7d83-4542-8f15-84baf36783ad",
   "metadata": {
    "tags": []
   },
   "outputs": [],
   "source": [
    "forecasts = list(forecast_it)\n",
    "tss = list(ts_it)\n",
    "ts_entry = tss[0]\n",
    "forecast_entry = forecasts[0]"
   ]
  },
  {
   "cell_type": "code",
   "execution_count": 23,
   "id": "precise-underwear",
   "metadata": {},
   "outputs": [
    {
     "data": {
      "text/plain": [
       "gluonts.model.forecast.SampleForecast(info=None, item_id=None, samples=array([[ 44.,   3.,  13., ..., 104.,   1.,  29.],\n",
       "       [ 11.,  45.,  29., ...,   4.,  10.,   1.],\n",
       "       [127., 121., 133., ...,   7.,   7.,   1.],\n",
       "       ...,\n",
       "       [  8.,  39.,   2., ...,  44.,  36.,  12.],\n",
       "       [ 33.,  39.,   2., ...,  27.,  11., 151.],\n",
       "       [ 13.,  29.,   6., ...,  12.,  10.,  25.]], dtype=float32), start_date=Period('2023-01-18', 'D'))"
      ]
     },
     "execution_count": 23,
     "metadata": {},
     "output_type": "execute_result"
    }
   ],
   "source": [
    "forecast_entry"
   ]
  },
  {
   "cell_type": "code",
   "execution_count": 21,
   "id": "613dcc60-a2c8-4a52-8a98-d770c79508e8",
   "metadata": {
    "scrolled": true,
    "tags": []
   },
   "outputs": [
    {
     "ename": "IndexError",
     "evalue": "list index out of range",
     "output_type": "error",
     "traceback": [
      "\u001b[0;31m---------------------------------------------------------------------------\u001b[0m",
      "\u001b[0;31mIndexError\u001b[0m                                Traceback (most recent call last)",
      "\u001b[0;32m<ipython-input-21-e04f6486eb4a>\u001b[0m in \u001b[0;36m<module>\u001b[0;34m\u001b[0m\n\u001b[1;32m      1\u001b[0m \u001b[0mindex\u001b[0m \u001b[0;34m=\u001b[0m \u001b[0;36m1\u001b[0m\u001b[0;34m\u001b[0m\u001b[0;34m\u001b[0m\u001b[0m\n\u001b[0;32m----> 2\u001b[0;31m \u001b[0mts_entry\u001b[0m \u001b[0;34m=\u001b[0m \u001b[0mtss\u001b[0m\u001b[0;34m[\u001b[0m\u001b[0mindex\u001b[0m\u001b[0;34m]\u001b[0m\u001b[0;34m\u001b[0m\u001b[0;34m\u001b[0m\u001b[0m\n\u001b[0m\u001b[1;32m      3\u001b[0m \u001b[0mforecast_entry\u001b[0m \u001b[0;34m=\u001b[0m \u001b[0mforecasts\u001b[0m\u001b[0;34m[\u001b[0m\u001b[0mindex\u001b[0m\u001b[0;34m]\u001b[0m\u001b[0;34m\u001b[0m\u001b[0;34m\u001b[0m\u001b[0m\n\u001b[1;32m      4\u001b[0m \u001b[0;34m\u001b[0m\u001b[0m\n\u001b[1;32m      5\u001b[0m \u001b[0mplt\u001b[0m\u001b[0;34m.\u001b[0m\u001b[0mfigure\u001b[0m\u001b[0;34m(\u001b[0m\u001b[0mfigsize\u001b[0m\u001b[0;34m=\u001b[0m\u001b[0;34m(\u001b[0m\u001b[0;36m10\u001b[0m\u001b[0;34m,\u001b[0m \u001b[0;36m6\u001b[0m\u001b[0;34m)\u001b[0m\u001b[0;34m)\u001b[0m\u001b[0;34m\u001b[0m\u001b[0;34m\u001b[0m\u001b[0m\n",
      "\u001b[0;31mIndexError\u001b[0m: list index out of range"
     ]
    }
   ],
   "source": [
    "index = 1\n",
    "ts_entry = tss[index]\n",
    "forecast_entry = forecasts[index]\n",
    "\n",
    "plt.figure(figsize=(10, 6))\n",
    "plt.plot(tss[index].to_timestamp(),label=\"test series\")\n",
    "\n",
    "# Assuming forecasts[index] is a gluonts.model.forecast.Forecast object\n",
    "forecast_index = np.array(forecast_entry.index.to_timestamp())\n",
    "forecast_values = np.array(forecast_entry.quantile(0.5))  # Convert to numpy array\n",
    "\n",
    "plt.plot(forecast_index, forecast_values, label=\"median forecast\", color='g')\n",
    "for interval in (0.5, 0.9):\n",
    "    label = interval\n",
    "    low = (1 - interval) / 2\n",
    "    plt.fill_between(\n",
    "        forecast_entry.index.to_timestamp(),\n",
    "        forecast_entry.quantile(low),\n",
    "        forecast_entry.quantile(1 - low),\n",
    "        alpha=0.5 - interval / 3,\n",
    "        facecolor='g',\n",
    "        label=None,\n",
    "    )\n",
    "\n",
    "\n",
    "plt.grid(which=\"both\")\n",
    "plt.axvline(pivoted_df.index[index_train_end], color='r', label=\"end of train series\") # end of train dataset\n",
    "plt.legend(loc=\"lower left\")\n",
    "plt.title('Surface Temperature @ Nakhon Ratchasima')\n",
    "\n",
    "\n",
    "\n",
    "\n",
    "plt.show()"
   ]
  },
  {
   "cell_type": "code",
   "execution_count": null,
   "id": "ordinary-correlation",
   "metadata": {},
   "outputs": [],
   "source": [
    "for index in range(10):\n",
    "    print(index)"
   ]
  },
  {
   "cell_type": "code",
   "execution_count": null,
   "id": "thermal-equipment",
   "metadata": {},
   "outputs": [],
   "source": []
  }
 ],
 "metadata": {
  "availableInstances": [
   {
    "_defaultOrder": 0,
    "_isFastLaunch": true,
    "category": "General purpose",
    "gpuNum": 0,
    "hideHardwareSpecs": false,
    "memoryGiB": 4,
    "name": "ml.t3.medium",
    "vcpuNum": 2
   },
   {
    "_defaultOrder": 1,
    "_isFastLaunch": false,
    "category": "General purpose",
    "gpuNum": 0,
    "hideHardwareSpecs": false,
    "memoryGiB": 8,
    "name": "ml.t3.large",
    "vcpuNum": 2
   },
   {
    "_defaultOrder": 2,
    "_isFastLaunch": false,
    "category": "General purpose",
    "gpuNum": 0,
    "hideHardwareSpecs": false,
    "memoryGiB": 16,
    "name": "ml.t3.xlarge",
    "vcpuNum": 4
   },
   {
    "_defaultOrder": 3,
    "_isFastLaunch": false,
    "category": "General purpose",
    "gpuNum": 0,
    "hideHardwareSpecs": false,
    "memoryGiB": 32,
    "name": "ml.t3.2xlarge",
    "vcpuNum": 8
   },
   {
    "_defaultOrder": 4,
    "_isFastLaunch": true,
    "category": "General purpose",
    "gpuNum": 0,
    "hideHardwareSpecs": false,
    "memoryGiB": 8,
    "name": "ml.m5.large",
    "vcpuNum": 2
   },
   {
    "_defaultOrder": 5,
    "_isFastLaunch": false,
    "category": "General purpose",
    "gpuNum": 0,
    "hideHardwareSpecs": false,
    "memoryGiB": 16,
    "name": "ml.m5.xlarge",
    "vcpuNum": 4
   },
   {
    "_defaultOrder": 6,
    "_isFastLaunch": false,
    "category": "General purpose",
    "gpuNum": 0,
    "hideHardwareSpecs": false,
    "memoryGiB": 32,
    "name": "ml.m5.2xlarge",
    "vcpuNum": 8
   },
   {
    "_defaultOrder": 7,
    "_isFastLaunch": false,
    "category": "General purpose",
    "gpuNum": 0,
    "hideHardwareSpecs": false,
    "memoryGiB": 64,
    "name": "ml.m5.4xlarge",
    "vcpuNum": 16
   },
   {
    "_defaultOrder": 8,
    "_isFastLaunch": false,
    "category": "General purpose",
    "gpuNum": 0,
    "hideHardwareSpecs": false,
    "memoryGiB": 128,
    "name": "ml.m5.8xlarge",
    "vcpuNum": 32
   },
   {
    "_defaultOrder": 9,
    "_isFastLaunch": false,
    "category": "General purpose",
    "gpuNum": 0,
    "hideHardwareSpecs": false,
    "memoryGiB": 192,
    "name": "ml.m5.12xlarge",
    "vcpuNum": 48
   },
   {
    "_defaultOrder": 10,
    "_isFastLaunch": false,
    "category": "General purpose",
    "gpuNum": 0,
    "hideHardwareSpecs": false,
    "memoryGiB": 256,
    "name": "ml.m5.16xlarge",
    "vcpuNum": 64
   },
   {
    "_defaultOrder": 11,
    "_isFastLaunch": false,
    "category": "General purpose",
    "gpuNum": 0,
    "hideHardwareSpecs": false,
    "memoryGiB": 384,
    "name": "ml.m5.24xlarge",
    "vcpuNum": 96
   },
   {
    "_defaultOrder": 12,
    "_isFastLaunch": false,
    "category": "General purpose",
    "gpuNum": 0,
    "hideHardwareSpecs": false,
    "memoryGiB": 8,
    "name": "ml.m5d.large",
    "vcpuNum": 2
   },
   {
    "_defaultOrder": 13,
    "_isFastLaunch": false,
    "category": "General purpose",
    "gpuNum": 0,
    "hideHardwareSpecs": false,
    "memoryGiB": 16,
    "name": "ml.m5d.xlarge",
    "vcpuNum": 4
   },
   {
    "_defaultOrder": 14,
    "_isFastLaunch": false,
    "category": "General purpose",
    "gpuNum": 0,
    "hideHardwareSpecs": false,
    "memoryGiB": 32,
    "name": "ml.m5d.2xlarge",
    "vcpuNum": 8
   },
   {
    "_defaultOrder": 15,
    "_isFastLaunch": false,
    "category": "General purpose",
    "gpuNum": 0,
    "hideHardwareSpecs": false,
    "memoryGiB": 64,
    "name": "ml.m5d.4xlarge",
    "vcpuNum": 16
   },
   {
    "_defaultOrder": 16,
    "_isFastLaunch": false,
    "category": "General purpose",
    "gpuNum": 0,
    "hideHardwareSpecs": false,
    "memoryGiB": 128,
    "name": "ml.m5d.8xlarge",
    "vcpuNum": 32
   },
   {
    "_defaultOrder": 17,
    "_isFastLaunch": false,
    "category": "General purpose",
    "gpuNum": 0,
    "hideHardwareSpecs": false,
    "memoryGiB": 192,
    "name": "ml.m5d.12xlarge",
    "vcpuNum": 48
   },
   {
    "_defaultOrder": 18,
    "_isFastLaunch": false,
    "category": "General purpose",
    "gpuNum": 0,
    "hideHardwareSpecs": false,
    "memoryGiB": 256,
    "name": "ml.m5d.16xlarge",
    "vcpuNum": 64
   },
   {
    "_defaultOrder": 19,
    "_isFastLaunch": false,
    "category": "General purpose",
    "gpuNum": 0,
    "hideHardwareSpecs": false,
    "memoryGiB": 384,
    "name": "ml.m5d.24xlarge",
    "vcpuNum": 96
   },
   {
    "_defaultOrder": 20,
    "_isFastLaunch": false,
    "category": "General purpose",
    "gpuNum": 0,
    "hideHardwareSpecs": true,
    "memoryGiB": 0,
    "name": "ml.geospatial.interactive",
    "supportedImageNames": [
     "sagemaker-geospatial-v1-0"
    ],
    "vcpuNum": 0
   },
   {
    "_defaultOrder": 21,
    "_isFastLaunch": true,
    "category": "Compute optimized",
    "gpuNum": 0,
    "hideHardwareSpecs": false,
    "memoryGiB": 4,
    "name": "ml.c5.large",
    "vcpuNum": 2
   },
   {
    "_defaultOrder": 22,
    "_isFastLaunch": false,
    "category": "Compute optimized",
    "gpuNum": 0,
    "hideHardwareSpecs": false,
    "memoryGiB": 8,
    "name": "ml.c5.xlarge",
    "vcpuNum": 4
   },
   {
    "_defaultOrder": 23,
    "_isFastLaunch": false,
    "category": "Compute optimized",
    "gpuNum": 0,
    "hideHardwareSpecs": false,
    "memoryGiB": 16,
    "name": "ml.c5.2xlarge",
    "vcpuNum": 8
   },
   {
    "_defaultOrder": 24,
    "_isFastLaunch": false,
    "category": "Compute optimized",
    "gpuNum": 0,
    "hideHardwareSpecs": false,
    "memoryGiB": 32,
    "name": "ml.c5.4xlarge",
    "vcpuNum": 16
   },
   {
    "_defaultOrder": 25,
    "_isFastLaunch": false,
    "category": "Compute optimized",
    "gpuNum": 0,
    "hideHardwareSpecs": false,
    "memoryGiB": 72,
    "name": "ml.c5.9xlarge",
    "vcpuNum": 36
   },
   {
    "_defaultOrder": 26,
    "_isFastLaunch": false,
    "category": "Compute optimized",
    "gpuNum": 0,
    "hideHardwareSpecs": false,
    "memoryGiB": 96,
    "name": "ml.c5.12xlarge",
    "vcpuNum": 48
   },
   {
    "_defaultOrder": 27,
    "_isFastLaunch": false,
    "category": "Compute optimized",
    "gpuNum": 0,
    "hideHardwareSpecs": false,
    "memoryGiB": 144,
    "name": "ml.c5.18xlarge",
    "vcpuNum": 72
   },
   {
    "_defaultOrder": 28,
    "_isFastLaunch": false,
    "category": "Compute optimized",
    "gpuNum": 0,
    "hideHardwareSpecs": false,
    "memoryGiB": 192,
    "name": "ml.c5.24xlarge",
    "vcpuNum": 96
   },
   {
    "_defaultOrder": 29,
    "_isFastLaunch": true,
    "category": "Accelerated computing",
    "gpuNum": 1,
    "hideHardwareSpecs": false,
    "memoryGiB": 16,
    "name": "ml.g4dn.xlarge",
    "vcpuNum": 4
   },
   {
    "_defaultOrder": 30,
    "_isFastLaunch": false,
    "category": "Accelerated computing",
    "gpuNum": 1,
    "hideHardwareSpecs": false,
    "memoryGiB": 32,
    "name": "ml.g4dn.2xlarge",
    "vcpuNum": 8
   },
   {
    "_defaultOrder": 31,
    "_isFastLaunch": false,
    "category": "Accelerated computing",
    "gpuNum": 1,
    "hideHardwareSpecs": false,
    "memoryGiB": 64,
    "name": "ml.g4dn.4xlarge",
    "vcpuNum": 16
   },
   {
    "_defaultOrder": 32,
    "_isFastLaunch": false,
    "category": "Accelerated computing",
    "gpuNum": 1,
    "hideHardwareSpecs": false,
    "memoryGiB": 128,
    "name": "ml.g4dn.8xlarge",
    "vcpuNum": 32
   },
   {
    "_defaultOrder": 33,
    "_isFastLaunch": false,
    "category": "Accelerated computing",
    "gpuNum": 4,
    "hideHardwareSpecs": false,
    "memoryGiB": 192,
    "name": "ml.g4dn.12xlarge",
    "vcpuNum": 48
   },
   {
    "_defaultOrder": 34,
    "_isFastLaunch": false,
    "category": "Accelerated computing",
    "gpuNum": 1,
    "hideHardwareSpecs": false,
    "memoryGiB": 256,
    "name": "ml.g4dn.16xlarge",
    "vcpuNum": 64
   },
   {
    "_defaultOrder": 35,
    "_isFastLaunch": false,
    "category": "Accelerated computing",
    "gpuNum": 1,
    "hideHardwareSpecs": false,
    "memoryGiB": 61,
    "name": "ml.p3.2xlarge",
    "vcpuNum": 8
   },
   {
    "_defaultOrder": 36,
    "_isFastLaunch": false,
    "category": "Accelerated computing",
    "gpuNum": 4,
    "hideHardwareSpecs": false,
    "memoryGiB": 244,
    "name": "ml.p3.8xlarge",
    "vcpuNum": 32
   },
   {
    "_defaultOrder": 37,
    "_isFastLaunch": false,
    "category": "Accelerated computing",
    "gpuNum": 8,
    "hideHardwareSpecs": false,
    "memoryGiB": 488,
    "name": "ml.p3.16xlarge",
    "vcpuNum": 64
   },
   {
    "_defaultOrder": 38,
    "_isFastLaunch": false,
    "category": "Accelerated computing",
    "gpuNum": 8,
    "hideHardwareSpecs": false,
    "memoryGiB": 768,
    "name": "ml.p3dn.24xlarge",
    "vcpuNum": 96
   },
   {
    "_defaultOrder": 39,
    "_isFastLaunch": false,
    "category": "Memory Optimized",
    "gpuNum": 0,
    "hideHardwareSpecs": false,
    "memoryGiB": 16,
    "name": "ml.r5.large",
    "vcpuNum": 2
   },
   {
    "_defaultOrder": 40,
    "_isFastLaunch": false,
    "category": "Memory Optimized",
    "gpuNum": 0,
    "hideHardwareSpecs": false,
    "memoryGiB": 32,
    "name": "ml.r5.xlarge",
    "vcpuNum": 4
   },
   {
    "_defaultOrder": 41,
    "_isFastLaunch": false,
    "category": "Memory Optimized",
    "gpuNum": 0,
    "hideHardwareSpecs": false,
    "memoryGiB": 64,
    "name": "ml.r5.2xlarge",
    "vcpuNum": 8
   },
   {
    "_defaultOrder": 42,
    "_isFastLaunch": false,
    "category": "Memory Optimized",
    "gpuNum": 0,
    "hideHardwareSpecs": false,
    "memoryGiB": 128,
    "name": "ml.r5.4xlarge",
    "vcpuNum": 16
   },
   {
    "_defaultOrder": 43,
    "_isFastLaunch": false,
    "category": "Memory Optimized",
    "gpuNum": 0,
    "hideHardwareSpecs": false,
    "memoryGiB": 256,
    "name": "ml.r5.8xlarge",
    "vcpuNum": 32
   },
   {
    "_defaultOrder": 44,
    "_isFastLaunch": false,
    "category": "Memory Optimized",
    "gpuNum": 0,
    "hideHardwareSpecs": false,
    "memoryGiB": 384,
    "name": "ml.r5.12xlarge",
    "vcpuNum": 48
   },
   {
    "_defaultOrder": 45,
    "_isFastLaunch": false,
    "category": "Memory Optimized",
    "gpuNum": 0,
    "hideHardwareSpecs": false,
    "memoryGiB": 512,
    "name": "ml.r5.16xlarge",
    "vcpuNum": 64
   },
   {
    "_defaultOrder": 46,
    "_isFastLaunch": false,
    "category": "Memory Optimized",
    "gpuNum": 0,
    "hideHardwareSpecs": false,
    "memoryGiB": 768,
    "name": "ml.r5.24xlarge",
    "vcpuNum": 96
   },
   {
    "_defaultOrder": 47,
    "_isFastLaunch": false,
    "category": "Accelerated computing",
    "gpuNum": 1,
    "hideHardwareSpecs": false,
    "memoryGiB": 16,
    "name": "ml.g5.xlarge",
    "vcpuNum": 4
   },
   {
    "_defaultOrder": 48,
    "_isFastLaunch": false,
    "category": "Accelerated computing",
    "gpuNum": 1,
    "hideHardwareSpecs": false,
    "memoryGiB": 32,
    "name": "ml.g5.2xlarge",
    "vcpuNum": 8
   },
   {
    "_defaultOrder": 49,
    "_isFastLaunch": false,
    "category": "Accelerated computing",
    "gpuNum": 1,
    "hideHardwareSpecs": false,
    "memoryGiB": 64,
    "name": "ml.g5.4xlarge",
    "vcpuNum": 16
   },
   {
    "_defaultOrder": 50,
    "_isFastLaunch": false,
    "category": "Accelerated computing",
    "gpuNum": 1,
    "hideHardwareSpecs": false,
    "memoryGiB": 128,
    "name": "ml.g5.8xlarge",
    "vcpuNum": 32
   },
   {
    "_defaultOrder": 51,
    "_isFastLaunch": false,
    "category": "Accelerated computing",
    "gpuNum": 1,
    "hideHardwareSpecs": false,
    "memoryGiB": 256,
    "name": "ml.g5.16xlarge",
    "vcpuNum": 64
   },
   {
    "_defaultOrder": 52,
    "_isFastLaunch": false,
    "category": "Accelerated computing",
    "gpuNum": 4,
    "hideHardwareSpecs": false,
    "memoryGiB": 192,
    "name": "ml.g5.12xlarge",
    "vcpuNum": 48
   },
   {
    "_defaultOrder": 53,
    "_isFastLaunch": false,
    "category": "Accelerated computing",
    "gpuNum": 4,
    "hideHardwareSpecs": false,
    "memoryGiB": 384,
    "name": "ml.g5.24xlarge",
    "vcpuNum": 96
   },
   {
    "_defaultOrder": 54,
    "_isFastLaunch": false,
    "category": "Accelerated computing",
    "gpuNum": 8,
    "hideHardwareSpecs": false,
    "memoryGiB": 768,
    "name": "ml.g5.48xlarge",
    "vcpuNum": 192
   },
   {
    "_defaultOrder": 55,
    "_isFastLaunch": false,
    "category": "Accelerated computing",
    "gpuNum": 8,
    "hideHardwareSpecs": false,
    "memoryGiB": 1152,
    "name": "ml.p4d.24xlarge",
    "vcpuNum": 96
   },
   {
    "_defaultOrder": 56,
    "_isFastLaunch": false,
    "category": "Accelerated computing",
    "gpuNum": 8,
    "hideHardwareSpecs": false,
    "memoryGiB": 1152,
    "name": "ml.p4de.24xlarge",
    "vcpuNum": 96
   }
  ],
  "instance_type": "ml.t3.medium",
  "kernelspec": {
   "display_name": "Python 3",
   "language": "python",
   "name": "python3"
  },
  "language_info": {
   "codemirror_mode": {
    "name": "ipython",
    "version": 3
   },
   "file_extension": ".py",
   "mimetype": "text/x-python",
   "name": "python",
   "nbconvert_exporter": "python",
   "pygments_lexer": "ipython3",
   "version": "3.9.17"
  }
 },
 "nbformat": 4,
 "nbformat_minor": 5
}
